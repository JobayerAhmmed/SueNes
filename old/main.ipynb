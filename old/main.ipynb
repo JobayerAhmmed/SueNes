{
 "cells": [
  {
   "cell_type": "code",
   "execution_count": null,
   "metadata": {},
   "outputs": [],
   "source": [
    "import os"
   ]
  },
  {
   "cell_type": "code",
   "execution_count": null,
   "metadata": {},
   "outputs": [],
   "source": [
    "from antirouge import config\n",
    "from antirouge.data import load_data_generators"
   ]
  },
  {
   "cell_type": "code",
   "execution_count": null,
   "metadata": {},
   "outputs": [],
   "source": [
    "# Optional do not use GPU\n",
    "# must be called before importing tensorflow\n",
    "os.environ[\"CUDA_VISIBLE_DEVICES\"] = \"-1\""
   ]
  },
  {
   "cell_type": "markdown",
   "metadata": {},
   "source": [
    "# Preprocessing\n",
    "\n",
    "Sentence embedding is pretty expensive. Thus we're embedding the texts to vectors beforehand to avoid doing it in each epoch."
   ]
  },
  {
   "cell_type": "code",
   "execution_count": null,
   "metadata": {},
   "outputs": [],
   "source": [
    "from antirouge.pre import pre_embed_tsv_folder"
   ]
  },
  {
   "cell_type": "code",
   "execution_count": null,
   "metadata": {
    "scrolled": true,
    "tags": []
   },
   "outputs": [],
   "source": [
    "pre_embed_tsv_folder('pre/cnn_dailymail_add', 'USE', batch_size=1000)"
   ]
  },
  {
   "cell_type": "code",
   "execution_count": null,
   "metadata": {},
   "outputs": [],
   "source": [
    "pre_embed_tsv_folder('pre/billsum_cross', 'InferSent', batch_size=1000)"
   ]
  },
  {
   "cell_type": "code",
   "execution_count": null,
   "metadata": {},
   "outputs": [],
   "source": [
    "# Doing for a bunch of settings\n",
    "for embed_method in ['USE', 'USE-Large', 'InferSent']:\n",
    "    for folder in ['pre/cnn_dailymail_add', \n",
    "                   'pre/cnn_dailymail_cross',\n",
    "                   'pre/cnn_dailymail_delete',\n",
    "                   'pre/cnn_dailymail_replace']:\n",
    "        pre_embed_tsv_folder(folder, embed_method, batch_size=1000)"
   ]
  },
  {
   "cell_type": "markdown",
   "metadata": {},
   "source": [
    "# Sentence Embedding Experiment"
   ]
  },
  {
   "cell_type": "markdown",
   "metadata": {},
   "source": [
    "## Load Data"
   ]
  },
  {
   "cell_type": "code",
   "execution_count": null,
   "metadata": {},
   "outputs": [],
   "source": [
    "from antirouge.data import load_data_generators"
   ]
  },
  {
   "cell_type": "code",
   "execution_count": null,
   "metadata": {},
   "outputs": [],
   "source": [
    "# USE embedded input\n",
    "train_folder = os.path.join('pre/cnn_dailymail_add', 'train.tsv_embed', 'USE')\n",
    "test_folder = os.path.join('pre/cnn_dailymail_add', 'test.tsv_embed', 'USE')\n",
    "validation_folder = os.path.join('pre/cnn_dailymail_add', 'validation.tsv_embed', 'USE')"
   ]
  },
  {
   "cell_type": "code",
   "execution_count": null,
   "metadata": {},
   "outputs": [],
   "source": [
    "data_iters = load_data_generators(train_folder, validation_folder, test_folder, bsize=8)"
   ]
  },
  {
   "cell_type": "markdown",
   "metadata": {},
   "source": [
    "## Run models"
   ]
  },
  {
   "cell_type": "code",
   "execution_count": null,
   "metadata": {},
   "outputs": [],
   "source": [
    "from antirouge.model import train_model, create_FC_model, create_LSTM_model, create_CNN1D_model"
   ]
  },
  {
   "cell_type": "code",
   "execution_count": null,
   "metadata": {},
   "outputs": [],
   "source": [
    "model = create_FC_model(512)"
   ]
  },
  {
   "cell_type": "code",
   "execution_count": null,
   "metadata": {},
   "outputs": [],
   "source": [
    "model = create_LSTM_model(512)"
   ]
  },
  {
   "cell_type": "code",
   "execution_count": null,
   "metadata": {},
   "outputs": [],
   "source": [
    "model = create_CNN1D_model(512)"
   ]
  },
  {
   "cell_type": "code",
   "execution_count": null,
   "metadata": {
    "scrolled": true
   },
   "outputs": [],
   "source": [
    "train_model(model, data_iters)"
   ]
  },
  {
   "cell_type": "markdown",
   "metadata": {},
   "source": [
    "# Experiments"
   ]
  },
  {
   "cell_type": "code",
   "execution_count": null,
   "metadata": {},
   "outputs": [],
   "source": [
    "for embed_method in ['USE', 'USE-Large', 'InferSent']:\n",
    "    for folder in ['pre/cnn_dailymail_add', \n",
    "                   'pre/cnn_dailymail_cross',\n",
    "                   'pre/cnn_dailymail_delete',\n",
    "                   'pre/cnn_dailymail_replace']:\n",
    "        # FIXME assuming preprocessed data exists\n",
    "        train_folder = os.path.join(folder, 'train.tsv_embed', embed_method)\n",
    "        test_folder = os.path.join(folder, 'test.tsv_embed', embed_method)\n",
    "        validation_folder = os.path.join(folder, 'validation.tsv_embed', embed_method)\n",
    "        data_iters = load_data_generators(train_folder, validation_folder, test_folder, bsize=8)\n",
    "        for model_fn in [create_FC_model, create_LSTM_model, create_CNN1D_model]:\n",
    "            model = model_fn(4096 if embed_method == 'InferSent' else 512)\n",
    "            # TODO save the log somewhere\n",
    "            train_model(model, data_iters)"
   ]
  }
 ],
 "metadata": {
  "kernelspec": {
   "display_name": "Python 3",
   "language": "python",
   "name": "python3"
  },
  "language_info": {
   "codemirror_mode": {
    "name": "ipython",
    "version": 3
   },
   "file_extension": ".py",
   "mimetype": "text/x-python",
   "name": "python",
   "nbconvert_exporter": "python",
   "pygments_lexer": "ipython3",
   "version": "3.8.6"
  }
 },
 "nbformat": 4,
 "nbformat_minor": 4
}
