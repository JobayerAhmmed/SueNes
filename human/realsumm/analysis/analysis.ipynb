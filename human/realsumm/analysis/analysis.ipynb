{
 "cells": [
  {
   "cell_type": "code",
   "execution_count": 1,
   "source": [
    "%load_ext autoreload\n",
    "%autoreload 2\n",
    "\n",
    "%matplotlib inline\n",
    "\n",
    "from IPython.core.interactiveshell import InteractiveShell\n",
    "InteractiveShell.ast_node_interactivity = \"all\""
   ],
   "outputs": [],
   "metadata": {}
  },
  {
   "cell_type": "code",
   "execution_count": 2,
   "source": [
    "import itertools\n",
    "import numpy as np\n",
    "import utils\n",
    "import copy\n",
    "\n",
    "from collections import defaultdict as ddict\n",
    "from sklearn.metrics import confusion_matrix, f1_score\n",
    "from matplotlib import pyplot as plt\n",
    "from random import choices"
   ],
   "outputs": [],
   "metadata": {}
  },
  {
   "cell_type": "code",
   "execution_count": 55,
   "source": [
    "sd_path = \"../scores_dicts/abs_ours.pkl\"\n",
    "sd = utils.get_pickle(sd_path)"
   ],
   "outputs": [],
   "metadata": {}
  },
  {
   "cell_type": "code",
   "execution_count": 61,
   "source": [
    "sd_path = \"../scores_dicts/ext_ours.pkl\"\n",
    "sd = utils.get_pickle(sd_path)"
   ],
   "outputs": [],
   "metadata": {}
  },
  {
   "cell_type": "markdown",
   "source": [
    "# To analyze mix of ext and abs summaries, load both and merge"
   ],
   "metadata": {}
  },
  {
   "cell_type": "code",
   "execution_count": 64,
   "source": [
    "sd_abs_path = \"../scores_dicts/abs_ours.pkl\"\n",
    "sd_ext_path = \"../scores_dicts/ext_ours.pkl\"\n",
    "sd_abs = utils.get_pickle(sd_abs_path)\n",
    "sd_ext = utils.get_pickle(sd_ext_path)\n",
    "sd = copy.deepcopy(sd_abs)\n",
    "for doc_id in sd:\n",
    "    isd_sota_ext = sd_ext[doc_id]\n",
    "    # isd_sota_ext['system_summaries']['bart_out_ext.txt'] = isd_sota_ext['system_summaries']['bart_out.txt']\n",
    "    sd[doc_id]['system_summaries'].update(isd_sota_ext['system_summaries'])"
   ],
   "outputs": [],
   "metadata": {}
  },
  {
   "cell_type": "markdown",
   "source": [
    "# Data exploration"
   ],
   "metadata": {}
  },
  {
   "cell_type": "code",
   "execution_count": 65,
   "source": [
    "sd.keys()\n",
    "len(sd)"
   ],
   "outputs": [
    {
     "output_type": "execute_result",
     "data": {
      "text/plain": [
       "dict_keys([52, 2, 23, 62, 6, 92, 73, 47, 86, 32, 67, 42, 36, 3, 50, 35, 17, 45, 16, 48, 95, 91, 89, 85, 74, 28, 49, 58, 12, 33, 14, 9, 8, 29, 43, 39, 38, 84, 57, 31, 21, 71, 15, 24, 78, 5, 90, 87, 51, 40, 1, 46, 66, 56, 7, 88, 72, 77, 34, 68, 26, 64, 18, 76, 30, 80, 61, 99, 79, 41, 27, 94, 22, 4, 82, 0, 10, 37, 25, 60, 70, 13, 19, 75, 69, 54, 65, 81, 98, 11, 55, 44, 59, 20, 83, 96, 97, 93, 53, 63])"
      ]
     },
     "metadata": {},
     "execution_count": 65
    },
    {
     "output_type": "execute_result",
     "data": {
      "text/plain": [
       "100"
      ]
     },
     "metadata": {},
     "execution_count": 65
    }
   ],
   "metadata": {}
  },
  {
   "cell_type": "markdown",
   "source": [
    "### print score ranges"
   ],
   "metadata": {
    "pycharm": {
     "name": "#%% md\n"
    }
   }
  },
  {
   "cell_type": "code",
   "execution_count": 66,
   "source": [
    "utils.print_score_ranges(sd)"
   ],
   "outputs": [
    {
     "output_type": "stream",
     "name": "stdout",
     "text": [
      "                                                     min    25-perc     median    75-perc        max       mean\n",
      "---------------------------------------------  ---------  ---------  ---------  ---------  ---------  ---------\n",
      "bert_f_score                                   -0.351825   0.187762   0.274291   0.354471   0.932561   0.272637\n",
      "bert_precision_score                           -0.254846   0.143861   0.232485   0.328865   0.943010   0.239075\n",
      "bert_recall_score                              -0.459320   0.209174   0.308070   0.401256   0.921930   0.305628\n",
      "js-2                                           -0.693147  -0.607497  -0.556299  -0.499285  -0.120117  -0.545432\n",
      "litepyramid_recall                              0.000000   0.333333   0.454545   0.600000   1.000000   0.461623\n",
      "mover_score                                     0.008218   0.222983   0.274517   0.333752   0.754240   0.282092\n",
      "ours_big_patent_sent_delete                     0.241618   0.729438   0.822597   0.888275   0.955661   0.797450\n",
      "ours_big_patent_sent_replace                    0.502437   0.506182   0.506801   0.507387   0.509384   0.506750\n",
      "ours_billsum_sent_delete                        0.433078   0.873048   0.896409   0.903440   0.909717   0.871790\n",
      "ours_billsum_sent_replace                       0.845952   0.961867   0.961926   0.961945   0.961973   0.961360\n",
      "ours_cnn_dailymail_sent_delete                  0.299312   0.846294   0.934860   0.962978   0.974145   0.886606\n",
      "ours_cnn_dailymail_sent_replace                 0.495652   0.497632   0.498248   0.498849   0.501003   0.498264\n",
      "ours_scientific_papers_sent_delete              0.185803   0.614135   0.706214   0.795244   0.945896   0.698719\n",
      "ours_scientific_papers_sent_replace_init_bert   0.494097   0.495785   0.496304   0.496846   0.499134   0.496342\n",
      "rouge_1_f_score                                 0.096150   0.360660   0.432430   0.508770   0.904760   0.438128\n",
      "rouge_1_precision                               0.100000   0.314810   0.382980   0.475755   0.941180   0.400062\n",
      "rouge_1_recall                                  0.092590   0.406438   0.509430   0.615380   0.960000   0.511928\n",
      "rouge_2_f_score                                 0.000000   0.115700   0.183100   0.261680   0.829270   0.200661\n",
      "rouge_2_precision                               0.000000   0.102040   0.162330   0.235290   0.875000   0.183364\n",
      "rouge_2_recall                                  0.000000   0.130430   0.214290   0.313730   0.829270   0.234476\n",
      "rouge_l_f_score                                 0.074070   0.317685   0.395830   0.468182   0.904760   0.400643\n",
      "rouge_l_precision                               0.081970   0.279070   0.349210   0.442310   0.941180   0.365890\n",
      "rouge_l_recall                                  0.061220   0.361700   0.458330   0.568293   0.960000   0.468059\n"
     ]
    }
   ],
   "metadata": {
    "pycharm": {
     "name": "#%%\n"
    },
    "scrolled": true
   }
  },
  {
   "cell_type": "markdown",
   "source": [
    "## how many summaries per document?"
   ],
   "metadata": {
    "pycharm": {
     "name": "#%% md\n"
    }
   }
  },
  {
   "cell_type": "code",
   "execution_count": 67,
   "source": [
    "print(np.mean([len(d['system_summaries']) for d in sd.values()]))"
   ],
   "outputs": [
    {
     "output_type": "stream",
     "name": "stdout",
     "text": [
      "25.0\n"
     ]
    }
   ],
   "metadata": {
    "pycharm": {
     "name": "#%%\n"
    }
   }
  },
  {
   "cell_type": "code",
   "execution_count": 59,
   "source": [
    "len(sd)"
   ],
   "outputs": [
    {
     "output_type": "execute_result",
     "data": {
      "text/plain": [
       "100"
      ]
     },
     "metadata": {},
     "execution_count": 59
    }
   ],
   "metadata": {}
  },
  {
   "cell_type": "markdown",
   "source": [
    "## what metrics found for each document?"
   ],
   "metadata": {
    "pycharm": {
     "name": "#%% md\n"
    }
   }
  },
  {
   "cell_type": "code",
   "execution_count": 42,
   "source": [
    "mlist = utils.get_metrics_list(sd)\n",
    "mlist"
   ],
   "outputs": [
    {
     "output_type": "execute_result",
     "data": {
      "text/plain": [
       "['bert_f_score',\n",
       " 'bert_precision_score',\n",
       " 'bert_recall_score',\n",
       " 'js-2',\n",
       " 'litepyramid_recall',\n",
       " 'mover_score',\n",
       " 'ours_big_patent_sent_delete',\n",
       " 'ours_big_patent_sent_replace',\n",
       " 'ours_billsum_sent_delete',\n",
       " 'ours_billsum_sent_replace',\n",
       " 'ours_cnn_dailymail_sent_delete',\n",
       " 'ours_cnn_dailymail_sent_replace',\n",
       " 'ours_scientific_papers_sent_delete',\n",
       " 'ours_scientific_papers_sent_replace_init_bert',\n",
       " 'rouge_1_f_score',\n",
       " 'rouge_1_precision',\n",
       " 'rouge_1_recall',\n",
       " 'rouge_2_f_score',\n",
       " 'rouge_2_precision',\n",
       " 'rouge_2_recall',\n",
       " 'rouge_l_f_score',\n",
       " 'rouge_l_precision',\n",
       " 'rouge_l_recall']"
      ]
     },
     "metadata": {},
     "execution_count": 42
    }
   ],
   "metadata": {
    "pycharm": {
     "name": "#%%\n"
    }
   }
  },
  {
   "cell_type": "markdown",
   "source": [
    "## Filter out some metrics if reqd"
   ],
   "metadata": {}
  },
  {
   "cell_type": "code",
   "execution_count": 68,
   "source": [
    "mlist = ['bert_recall_score',  'ours_big_patent_sent_delete',\n",
    "    #'ours_big_patent_sent_replace',\n",
    "    'ours_billsum_sent_delete',\n",
    "    #'ours_billsum_sent_replace',\n",
    "    'ours_cnn_dailymail_sent_delete',\n",
    "    # 'ours_cnn_dailymail_sent_replace',\n",
    "    'ours_scientific_papers_sent_delete', \n",
    "    'rouge_l_recall',\n",
    "    'mover_score',\n",
    "    'js-2',\n",
    "    # 'ours_scientific_papers_sent_replace_init_bert'#, 'mover_score', 'rouge_1_recall', 'rouge_2_recall', 'rouge_l_recall', 'js-2'\n",
    "    'litepyramid_recall']"
   ],
   "outputs": [],
   "metadata": {}
  },
  {
   "cell_type": "markdown",
   "source": [
    "# Write to william's test format - Exp I\n",
    "The below lines writes our data in the appropriate format for william's test. To run william's test see https://github.com/ygraham/nlp-williams"
   ],
   "metadata": {}
  },
  {
   "cell_type": "code",
   "execution_count": 34,
   "source": [
    "W_DATAPATH = \"../williams_test_data/\"\n",
    "human_scores_fp = W_DATAPATH + 'abs_human_scores_100_docs_15_sys_clean.tsv'\n",
    "metric_scores_fp = W_DATAPATH + 'abs_metric_scores_100_docs_15_sys_clean.tsv'"
   ],
   "outputs": [],
   "metadata": {}
  },
  {
   "cell_type": "code",
   "execution_count": 29,
   "source": [
    "header = 'METRIC\\tLP\\tTESTSET\\tSYSTEM\\tSCORE'"
   ],
   "outputs": [],
   "metadata": {}
  },
  {
   "cell_type": "code",
   "execution_count": 44,
   "source": [
    "systems = utils.get_system_level_scores(sd, mlist, agg='mean')\n",
    "len(systems)\n",
    "systems"
   ],
   "outputs": [
    {
     "output_type": "execute_result",
     "data": {
      "text/plain": [
       "14"
      ]
     },
     "metadata": {},
     "execution_count": 44
    },
    {
     "output_type": "execute_result",
     "data": {
      "text/plain": [
       "defaultdict(<function utils.get_system_level_scores.<locals>.<lambda>()>,\n",
       "            {'presumm_out_trans_abs.txt': defaultdict(list,\n",
       "                         {'bert_recall_score': 0.23639445294509642,\n",
       "                          'ours_big_patent_sent_delete': 0.8120554723,\n",
       "                          'ours_billsum_sent_delete': 0.7996970487,\n",
       "                          'ours_cnn_dailymail_sent_delete': 0.7900268529999999,\n",
       "                          'ours_scientific_papers_sent_delete': 0.5675817706,\n",
       "                          'rouge_l_recall': 0.43200049999999995,\n",
       "                          'mover_score': 0.2514619151726886,\n",
       "                          'js-2': -0.5748483871399386,\n",
       "                          'litepyramid_recall': 0.37413331113331116}),\n",
       "             'two_stage_rl_out.txt': defaultdict(list,\n",
       "                         {'bert_recall_score': 0.302131678191945,\n",
       "                          'ours_big_patent_sent_delete': 0.7490648183999999,\n",
       "                          'ours_billsum_sent_delete': 0.8761671644000001,\n",
       "                          'ours_cnn_dailymail_sent_delete': 0.8719057888000001,\n",
       "                          'ours_scientific_papers_sent_delete': 0.7022240659000001,\n",
       "                          'rouge_l_recall': 0.44207499999999994,\n",
       "                          'mover_score': 0.28243861098086226,\n",
       "                          'js-2': -0.5486914060570224,\n",
       "                          'litepyramid_recall': 0.40588856976356974}),\n",
       "             'unilm_out_v2.txt': defaultdict(list,\n",
       "                         {'bert_recall_score': 0.23502746691927315,\n",
       "                          'ours_big_patent_sent_delete': 0.7419079766,\n",
       "                          'ours_billsum_sent_delete': 0.8801454749,\n",
       "                          'ours_cnn_dailymail_sent_delete': 0.8985945609999999,\n",
       "                          'ours_scientific_papers_sent_delete': 0.7238580998999999,\n",
       "                          'rouge_l_recall': 0.444276,\n",
       "                          'mover_score': 0.3039480667338662,\n",
       "                          'js-2': -0.5358155145234947,\n",
       "                          'litepyramid_recall': 0.4565360472860472}),\n",
       "             't5_out_large.txt': defaultdict(list,\n",
       "                         {'bert_recall_score': 0.3154942336399108,\n",
       "                          'ours_big_patent_sent_delete': 0.7115602928999999,\n",
       "                          'ours_billsum_sent_delete': 0.8778050535000002,\n",
       "                          'ours_cnn_dailymail_sent_delete': 0.8841989045000002,\n",
       "                          'ours_scientific_papers_sent_delete': 0.7115643922999999,\n",
       "                          'rouge_l_recall': 0.4211363000000001,\n",
       "                          'mover_score': 0.3023619977881443,\n",
       "                          'js-2': -0.5367864402784039,\n",
       "                          'litepyramid_recall': 0.4348651903651904}),\n",
       "             'presumm_out_ext_abs.txt': defaultdict(list,\n",
       "                         {'bert_recall_score': 0.26494738976471127,\n",
       "                          'ours_big_patent_sent_delete': 0.8070175027,\n",
       "                          'ours_billsum_sent_delete': 0.7926695467000002,\n",
       "                          'ours_cnn_dailymail_sent_delete': 0.7859739074,\n",
       "                          'ours_scientific_papers_sent_delete': 0.5566896825000001,\n",
       "                          'rouge_l_recall': 0.45114269999999995,\n",
       "                          'mover_score': 0.2787337818883831,\n",
       "                          'js-2': -0.5542823297053873,\n",
       "                          'litepyramid_recall': 0.4234427100677101}),\n",
       "             'ptr_generator_out_pointer_gen_cov.txt': defaultdict(list,\n",
       "                         {'bert_recall_score': 0.2383607214433141,\n",
       "                          'ours_big_patent_sent_delete': 0.7690657738,\n",
       "                          'ours_billsum_sent_delete': 0.8660347934000001,\n",
       "                          'ours_cnn_dailymail_sent_delete': 0.8369462299999999,\n",
       "                          'ours_scientific_papers_sent_delete': 0.6605022156,\n",
       "                          'rouge_l_recall': 0.2973169,\n",
       "                          'mover_score': 0.24940027068612333,\n",
       "                          'js-2': -0.5735683069190618,\n",
       "                          'litepyramid_recall': 0.355099802974803}),\n",
       "             'bart_out.txt': defaultdict(list,\n",
       "                         {'bert_recall_score': 0.3993247,\n",
       "                          'ours_big_patent_sent_delete': 0.8258601849,\n",
       "                          'ours_billsum_sent_delete': 0.8913085563999998,\n",
       "                          'ours_cnn_dailymail_sent_delete': 0.9384178819,\n",
       "                          'ours_scientific_papers_sent_delete': 0.7636477413999998,\n",
       "                          'rouge_l_recall': 0.5316823,\n",
       "                          'mover_score': 0.3134299622973734,\n",
       "                          'js-2': -0.5253723511367635,\n",
       "                          'litepyramid_recall': 0.5367819541569542}),\n",
       "             'fast_abs_rl_out_rerank.txt': defaultdict(list,\n",
       "                         {'bert_recall_score': 0.26244280544575305,\n",
       "                          'ours_big_patent_sent_delete': 0.8227005751999998,\n",
       "                          'ours_billsum_sent_delete': 0.9001703864000001,\n",
       "                          'ours_cnn_dailymail_sent_delete': 0.9620829035999999,\n",
       "                          'ours_scientific_papers_sent_delete': 0.8083715226,\n",
       "                          'rouge_l_recall': 0.4590929000000001,\n",
       "                          'mover_score': 0.25758270002548506,\n",
       "                          'js-2': -0.555404299441693,\n",
       "                          'litepyramid_recall': 0.39896986346986346}),\n",
       "             't5_out_11B.txt': defaultdict(list,\n",
       "                         {'bert_recall_score': 0.33260820819530634,\n",
       "                          'ours_big_patent_sent_delete': 0.7461745077,\n",
       "                          'ours_billsum_sent_delete': 0.8802814226999998,\n",
       "                          'ours_cnn_dailymail_sent_delete': 0.8999678289999999,\n",
       "                          'ours_scientific_papers_sent_delete': 0.7247758242999999,\n",
       "                          'rouge_l_recall': 0.44830420000000004,\n",
       "                          'mover_score': 0.31011758603195544,\n",
       "                          'js-2': -0.5340186030474151,\n",
       "                          'litepyramid_recall': 0.46166207403707404}),\n",
       "             'presumm_out_abs.txt': defaultdict(list,\n",
       "                         {'bert_recall_score': 0.2643683717853855,\n",
       "                          'ours_big_patent_sent_delete': 0.7810637604000001,\n",
       "                          'ours_billsum_sent_delete': 0.7795541384000002,\n",
       "                          'ours_cnn_dailymail_sent_delete': 0.7315359452999999,\n",
       "                          'ours_scientific_papers_sent_delete': 0.5345656346000001,\n",
       "                          'rouge_l_recall': 0.4388201999999999,\n",
       "                          'mover_score': 0.27695973251014566,\n",
       "                          'js-2': -0.5493325680975389,\n",
       "                          'litepyramid_recall': 0.40577813852813854}),\n",
       "             'bottom_up_out.txt': defaultdict(list,\n",
       "                         {'bert_recall_score': 0.2490344987437129,\n",
       "                          'ours_big_patent_sent_delete': 0.6944992048,\n",
       "                          'ours_billsum_sent_delete': 0.8749825863000003,\n",
       "                          'ours_cnn_dailymail_sent_delete': 0.8653995623000001,\n",
       "                          'ours_scientific_papers_sent_delete': 0.6720050128999998,\n",
       "                          'rouge_l_recall': 0.3808249,\n",
       "                          'mover_score': 0.2641651537925332,\n",
       "                          'js-2': -0.5706624753410129,\n",
       "                          'litepyramid_recall': 0.31726934176934174}),\n",
       "             'unilm_out_v1.txt': defaultdict(list,\n",
       "                         {'bert_recall_score': 0.3218906713556498,\n",
       "                          'ours_big_patent_sent_delete': 0.8009129451000001,\n",
       "                          'ours_billsum_sent_delete': 0.8906653155,\n",
       "                          'ours_cnn_dailymail_sent_delete': 0.9280726428,\n",
       "                          'ours_scientific_papers_sent_delete': 0.8205279618000002,\n",
       "                          'rouge_l_recall': 0.47221690000000005,\n",
       "                          'mover_score': 0.29507906194895595,\n",
       "                          'js-2': -0.5466963449897193,\n",
       "                          'litepyramid_recall': 0.45090105727605734}),\n",
       "             't5_out_base.txt': defaultdict(list,\n",
       "                         {'bert_recall_score': 0.29902413116768,\n",
       "                          'ours_big_patent_sent_delete': 0.7262117955,\n",
       "                          'ours_billsum_sent_delete': 0.8722180757,\n",
       "                          'ours_cnn_dailymail_sent_delete': 0.8860137850999998,\n",
       "                          'ours_scientific_papers_sent_delete': 0.7053326069000001,\n",
       "                          'rouge_l_recall': 0.4203489,\n",
       "                          'mover_score': 0.28810496949541503,\n",
       "                          'js-2': -0.5474474889346199,\n",
       "                          'litepyramid_recall': 0.41573380785880787}),\n",
       "             'semsim_out.txt': defaultdict(list,\n",
       "                         {'bert_recall_score': 0.3705558986403048,\n",
       "                          'ours_big_patent_sent_delete': 0.8188206958999998,\n",
       "                          'ours_billsum_sent_delete': 0.8934795891999999,\n",
       "                          'ours_cnn_dailymail_sent_delete': 0.9486901107999999,\n",
       "                          'ours_scientific_papers_sent_delete': 0.7841339339,\n",
       "                          'rouge_l_recall': 0.5348096999999999,\n",
       "                          'mover_score': 0.3147543776982281,\n",
       "                          'js-2': -0.5267222427132099,\n",
       "                          'litepyramid_recall': 0.561820942945943})})"
      ]
     },
     "metadata": {},
     "execution_count": 44
    }
   ],
   "metadata": {}
  },
  {
   "cell_type": "code",
   "execution_count": 37,
   "source": [
    "with open(human_scores_fp, 'w') as f:\n",
    "    f.write(header + '\\n')\n",
    "    for sys_name in systems:\n",
    "        _ = f.write(f\"HUMAN\\ten-en\\tcnndm\\t{sys_name}\\t{systems[sys_name]['litepyramid_recall']}\\n\")"
   ],
   "outputs": [
    {
     "output_type": "execute_result",
     "data": {
      "text/plain": [
       "31"
      ]
     },
     "metadata": {},
     "execution_count": 37
    }
   ],
   "metadata": {}
  },
  {
   "cell_type": "code",
   "execution_count": 38,
   "source": [
    "with open(metric_scores_fp, 'w') as f:\n",
    "    f.write(header + '\\n')\n",
    "    for m in mlist:\n",
    "        if m == 'litepyramid_recall':\n",
    "            continue\n",
    "        for sys_name in systems:\n",
    "            _ = f.write(f\"{m}\\ten-en\\tcnndm\\t{sys_name}\\t{systems[sys_name][m]}\\n\")"
   ],
   "outputs": [
    {
     "output_type": "execute_result",
     "data": {
      "text/plain": [
       "31"
      ]
     },
     "metadata": {},
     "execution_count": 38
    }
   ],
   "metadata": {}
  },
  {
   "cell_type": "markdown",
   "source": [
    "# System level analysis - Exp II"
   ],
   "metadata": {}
  },
  {
   "cell_type": "code",
   "execution_count": 48,
   "source": [
    "# plot k vs disagreements\n",
    "# kvalues = [14, 12, 10, 8, 6, 4]\n",
    "kvalues = [11, 8, 6, 4]\n",
    "# kvalues = [25, 20, 16, 12, 8, 6, 4]\n",
    "all_pairs = [('litepyramid_recall', m) for m in mlist if m != 'litepyramid_recall']\n",
    "systems = utils.get_system_level_scores(sd, mlist, agg='mean')\n",
    "sorting_metric = 'litepyramid_recall'\n",
    "correlation_method = 'pearson'\n",
    "\n",
    "y = ddict(list)\n",
    "for k in kvalues:\n",
    "    top_ksystems = utils.get_topk(systems, k, metric=sorting_metric)\n",
    "    corr, pval = utils.get_correlation(top_ksystems, metric_pairs=all_pairs, method=correlation_method)\n",
    "    for key in corr:\n",
    "        y[key].append(corr[key])\n",
    "        \n",
    "data = {\n",
    "    'x': kvalues,\n",
    "    **y,\n",
    "}\n",
    "labels = list(y.keys())\n",
    "for label in labels:\n",
    "    print (label)\n",
    "\n",
    "ax = plt.axes([0, 0, 2, 2])\n",
    "lines = []\n",
    "for label in labels:\n",
    "    lines.append(ax.plot('x', label, data=data, linewidth=4.0, marker='o',\n",
    "                         linestyle='solid' if 'pyramid' in label else None))\n",
    "    print(data[label][0])\n",
    "plt.gca().invert_xaxis()\n",
    "ax.legend(prop={'size': 15})\n",
    "ax.set_xlabel(f\"top k systems according to {sorting_metric}\", fontsize=25)\n",
    "ax.set_ylabel(f\"{correlation_method} correlation between different metric pairs\", fontsize=25)\n",
    "plt.ylim(-1, 1)"
   ],
   "outputs": [
    {
     "output_type": "stream",
     "name": "stdout",
     "text": [
      "litepyramid_recall_bert_recall_score\n",
      "litepyramid_recall_ours_big_patent_sent_delete\n",
      "litepyramid_recall_ours_billsum_sent_delete\n",
      "litepyramid_recall_ours_cnn_dailymail_sent_delete\n",
      "litepyramid_recall_ours_scientific_papers_sent_delete\n",
      "litepyramid_recall_rouge_l_recall\n",
      "litepyramid_recall_mover_score\n",
      "litepyramid_recall_js-2\n",
      "0.33278170130236623\n",
      "0.5189809292106612\n",
      "0.4291028721737522\n",
      "0.5995745934439858\n",
      "0.757297473935806\n",
      "0.6691213700654125\n",
      "0.011714445572992616\n",
      "0.1287485142568617\n"
     ]
    },
    {
     "output_type": "execute_result",
     "data": {
      "text/plain": [
       "<matplotlib.legend.Legend at 0x7fbeb6672280>"
      ]
     },
     "metadata": {},
     "execution_count": 48
    },
    {
     "output_type": "execute_result",
     "data": {
      "text/plain": [
       "Text(0.5, 0, 'top k systems according to litepyramid_recall')"
      ]
     },
     "metadata": {},
     "execution_count": 48
    },
    {
     "output_type": "execute_result",
     "data": {
      "text/plain": [
       "Text(0, 0.5, 'pearson correlation between different metric pairs')"
      ]
     },
     "metadata": {},
     "execution_count": 48
    },
    {
     "output_type": "execute_result",
     "data": {
      "text/plain": [
       "(-1.0, 1.0)"
      ]
     },
     "metadata": {},
     "execution_count": 48
    },
    {
     "output_type": "display_data",
     "data": {
      "image/png": "[encoded data removed]",
      "text/plain": [
       "<Figure size 432x288 with 1 Axes>"
      ]
     },
     "metadata": {
      "needs_background": "light"
     }
    }
   ],
   "metadata": {
    "scrolled": false
   }
  },
  {
   "cell_type": "markdown",
   "source": [
    "# Other correlation"
   ],
   "metadata": {}
  },
  {
   "cell_type": "code",
   "execution_count": 69,
   "source": [
    "from scipy.stats.stats import pearsonr, spearmanr, kendalltau\n",
    "all_pairs = [('litepyramid_recall', m) for m in mlist if m != 'litepyramid_recall']\n",
    "level=\"pool\"\n",
    "for pair in all_pairs: print(pair)\n",
    "for pair in all_pairs:\n",
    "    for method in [pearsonr, spearmanr, kendalltau]:\n",
    "        corr = 0\n",
    "        if level == \"pool\":\n",
    "            x = []\n",
    "            y = []\n",
    "            for doc_id in sd:\n",
    "                for sys_name, sys in sd[doc_id][\"system_summaries\"].items():\n",
    "                    x.append(sys[\"scores\"][pair[0]])\n",
    "                    y.append(sys[\"scores\"][pair[1]])\n",
    "            corr = method(x, y)[0]\n",
    "        elif level == \"summary\":\n",
    "            for doc_id in sd:\n",
    "                x = [sys[\"scores\"][pair[0]] for sys_name, sys in sd[doc_id][\"system_summaries\"].items()]\n",
    "                y = [sys[\"scores\"][pair[1]] for sys_name, sys in sd[doc_id][\"system_summaries\"].items()]\n",
    "                corr += method(x, y)[0]\n",
    "            corr /= len(sd)\n",
    "        elif level == 'system':\n",
    "            x = [scores[pair[0]] for sys_name, scores in systems.items()]\n",
    "            y = [scores[pair[1]] for sys_name, scores in systems.items()]\n",
    "            corr = method(x, y)[0]\n",
    "        else:\n",
    "            print(\"???\")\n",
    "            assert(False)\n",
    "        print(\"%.4f\" % corr, end=\" \")\n",
    "    \n",
    "    print(\"\")"
   ],
   "outputs": [
    {
     "output_type": "stream",
     "name": "stdout",
     "text": [
      "('litepyramid_recall', 'bert_recall_score')\n",
      "('litepyramid_recall', 'ours_big_patent_sent_delete')\n",
      "('litepyramid_recall', 'ours_billsum_sent_delete')\n",
      "('litepyramid_recall', 'ours_cnn_dailymail_sent_delete')\n",
      "('litepyramid_recall', 'ours_scientific_papers_sent_delete')\n",
      "('litepyramid_recall', 'rouge_l_recall')\n",
      "('litepyramid_recall', 'mover_score')\n",
      "('litepyramid_recall', 'js-2')\n",
      "0.5394 0.5208 0.3742 \n",
      "0.2727 0.2328 0.1579 \n",
      "0.1869 0.1774 0.1209 \n",
      "0.1554 0.1515 0.1036 \n",
      "0.1844 0.1634 0.1117 \n",
      "0.5442 0.5276 0.3787 \n",
      "0.4270 0.4013 0.2838 \n",
      "0.4682 0.4629 0.3287 \n"
     ]
    }
   ],
   "metadata": {}
  },
  {
   "cell_type": "markdown",
   "source": [
    "# Bootstrap Resampling - Exp III"
   ],
   "metadata": {}
  },
  {
   "cell_type": "code",
   "execution_count": null,
   "source": [],
   "outputs": [],
   "metadata": {}
  },
  {
   "cell_type": "code",
   "execution_count": 21,
   "source": [
    "systems = utils.get_system_level_scores(sd, mlist, agg='none')\n",
    "sys_names = list(systems.keys())\n",
    "all_system_pairs = list(itertools.combinations(sys_names, 2))"
   ],
   "outputs": [],
   "metadata": {}
  },
  {
   "cell_type": "code",
   "execution_count": 24,
   "source": [
    "def get_predictions_br(system_pairs, systems, metric):\n",
    "    preds = {}\n",
    "    for pair in system_pairs:\n",
    "        sys1 = systems[pair[0]][metric]\n",
    "        sys2 = systems[pair[1]][metric]\n",
    "        n = len(sys1)\n",
    "        points = [i for i in range(0, n)]\n",
    "        is_better = 0\n",
    "        N = 1000\n",
    "        for i in range(N):\n",
    "            sample = choices(points, k=n)\n",
    "            sys1_ = [sys1[p] for p in sample]\n",
    "            sys2_ = [sys2[p] for p in sample]\n",
    "            if np.mean(sys1_) > np.mean(sys2_):\n",
    "                is_better += 1\n",
    "                \n",
    "        if is_better/N >= 0.95:\n",
    "            preds[pair] = 0 # pair[0] is better\n",
    "        elif is_better/N <= 0.05:\n",
    "            preds[pair] = 1 # pair[1] is better\n",
    "        else:\n",
    "            preds[pair] = 2 # can't say\n",
    "    return preds"
   ],
   "outputs": [],
   "metadata": {}
  },
  {
   "cell_type": "code",
   "execution_count": 23,
   "source": [
    "human_judgements = get_predictions_br(all_system_pairs, systems, 'litepyramid_recall')"
   ],
   "outputs": [],
   "metadata": {}
  },
  {
   "cell_type": "code",
   "execution_count": 21,
   "source": [
    "y_true = [human_judgements[pair] for pair in all_system_pairs]\n",
    "metrics = mlist\n",
    "for metric in metrics:\n",
    "    metric_predictions = get_predictions_br(all_system_pairs, systems, metric)\n",
    "    \n",
    "    y_pred = [metric_predictions[pair] for pair in all_system_pairs]\n",
    "#     print('confusion metrics ', metric)\n",
    "    print(confusion_matrix(y_true, y_pred))\n",
    "    print(metric, f1_score(y_true, y_pred, average='weighted'))"
   ],
   "outputs": [
    {
     "output_type": "stream",
     "name": "stdout",
     "text": [
      "[[16  2  7]\n",
      " [ 1 39  3]\n",
      " [ 6 15 16]]\n",
      "bert_recall_score 0.6603724318010031\n",
      "[[18  2  5]\n",
      " [ 1 35  7]\n",
      " [10 10 17]]\n",
      "mover_score 0.6587782587782587\n",
      "[[21  0  4]\n",
      " [ 0 33 10]\n",
      " [10  8 19]]\n",
      "rouge_1_recall 0.6916326530612246\n",
      "[[21  0  4]\n",
      " [ 0 36  7]\n",
      " [ 4  4 29]]\n",
      "rouge_2_recall 0.8206793779943522\n",
      "[[21  1  3]\n",
      " [ 0 34  9]\n",
      " [ 9  9 19]]\n",
      "rouge_l_recall 0.6988245245851735\n",
      "[[20  0  5]\n",
      " [ 1 33  9]\n",
      " [ 8  6 23]]\n",
      "js-2 0.7250311868198047\n",
      "[[24  0  1]\n",
      " [ 0 41  2]\n",
      " [ 0  1 36]]\n",
      "litepyramid_recall 0.9621407660808685\n"
     ]
    }
   ],
   "metadata": {}
  },
  {
   "cell_type": "markdown",
   "source": [
    "# Summary level analysis - Exp IV"
   ],
   "metadata": {}
  },
  {
   "cell_type": "code",
   "execution_count": 25,
   "source": [
    "np.set_printoptions(precision=4)"
   ],
   "outputs": [],
   "metadata": {}
  },
  {
   "cell_type": "code",
   "execution_count": 26,
   "source": [
    "metrics = mlist\n",
    "utils.print_ktau_matrix(metrics, percentile=[(0, 100)], sd=sd, cutoff_metric='litepyramid_recall', y_type='ktau')"
   ],
   "outputs": [
    {
     "output_type": "stream",
     "name": "stdout",
     "text": [
      "['bert_recall_score', 'mover_score', 'rouge_1_recall', 'rouge_2_recall', 'rouge_l_recall', 'js-2', 'litepyramid_recall']\n",
      "[[0.     0.5434 0.5811 0.5996 0.58   0.5129 0.4684]]\n",
      "\n",
      "[[0.     0.     0.4774 0.5562 0.4774 0.5888 0.436 ]]\n",
      "\n",
      "[[0.     0.     0.     0.682  0.8626 0.5067 0.4891]]\n",
      "\n",
      "[[0.     0.     0.     0.     0.7006 0.7258 0.486 ]]\n",
      "\n",
      "[[0.     0.     0.     0.     0.     0.5154 0.4871]]\n",
      "\n",
      "[[0.     0.     0.     0.     0.     0.     0.4255]]\n",
      "\n",
      "[[0. 0. 0. 0. 0. 0. 0.]]\n",
      "\n",
      "total 476/2100.0 = 22.666666666666668% values ignored\n"
     ]
    },
    {
     "output_type": "execute_result",
     "data": {
      "text/plain": [
       "[0.46838622087890563,\n",
       " 0.43599197955352864,\n",
       " 0.48913594431561247,\n",
       " 0.4859542610414608,\n",
       " 0.4870908341119741,\n",
       " 0.4254850921291276]"
      ]
     },
     "metadata": {},
     "execution_count": 26
    }
   ],
   "metadata": {}
  },
  {
   "cell_type": "code",
   "execution_count": null,
   "source": [],
   "outputs": [],
   "metadata": {}
  }
 ],
 "metadata": {
  "interpreter": {
   "hash": "acf5c1ae4ec7b18ab4f440dd6ff91c43567be6972fe5cf460b3b038162caed1e"
  },
  "kernelspec": {
   "name": "python3",
   "display_name": "Python 3.8.5 64-bit ('base': conda)"
  },
  "language_info": {
   "codemirror_mode": {
    "name": "ipython",
    "version": 3
   },
   "file_extension": ".py",
   "mimetype": "text/x-python",
   "name": "python",
   "nbconvert_exporter": "python",
   "pygments_lexer": "ipython3",
   "version": "3.8.5"
  }
 },
 "nbformat": 4,
 "nbformat_minor": 4
}