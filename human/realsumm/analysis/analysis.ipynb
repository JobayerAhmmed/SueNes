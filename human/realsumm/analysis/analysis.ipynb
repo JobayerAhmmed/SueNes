{
 "cells": [
  {
   "cell_type": "code",
   "execution_count": 1,
   "source": [
    "%load_ext autoreload\n",
    "%autoreload 2\n",
    "\n",
    "%matplotlib inline\n",
    "\n",
    "from IPython.core.interactiveshell import InteractiveShell\n",
    "InteractiveShell.ast_node_interactivity = \"all\""
   ],
   "outputs": [],
   "metadata": {}
  },
  {
   "cell_type": "code",
   "execution_count": 2,
   "source": [
    "import itertools\n",
    "import numpy as np\n",
    "import utils\n",
    "import copy\n",
    "\n",
    "from collections import defaultdict as ddict\n",
    "from sklearn.metrics import confusion_matrix, f1_score\n",
    "from matplotlib import pyplot as plt\n",
    "from random import choices"
   ],
   "outputs": [],
   "metadata": {}
  },
  {
   "cell_type": "code",
   "execution_count": 39,
   "source": [
    "sd_path = \"../scores_dicts/abs_ours.pkl\"\n",
    "sd = utils.get_pickle(sd_path)"
   ],
   "outputs": [],
   "metadata": {}
  },
  {
   "cell_type": "markdown",
   "source": [
    "# To analyze mix of ext and abs summaries, load both and merge"
   ],
   "metadata": {}
  },
  {
   "cell_type": "code",
   "execution_count": 21,
   "source": [
    "sd_abs_path = \"../scores_dicts/abs.pkl\"\n",
    "sd_ext_path = \"../scores_dicts/ext.pkl\"\n",
    "sd_abs = utils.get_pickle(sd_abs_path)\n",
    "sd_ext = utils.get_pickle(sd_ext_path)\n",
    "sd = copy.deepcopy(sd_abs)\n",
    "# for doc_id in sd:\n",
    "#     isd_sota_ext = sd_ext[doc_id]\n",
    "#     isd_sota_ext['system_summaries']['bart_out_ext.txt'] = isd_sota_ext['system_summaries']['bart_out.txt']\n",
    "#     sd[doc_id]['system_summaries'].update(isd_sota_ext['system_summaries'])"
   ],
   "outputs": [],
   "metadata": {}
  },
  {
   "cell_type": "markdown",
   "source": [
    "# Data exploration"
   ],
   "metadata": {}
  },
  {
   "cell_type": "code",
   "execution_count": 40,
   "source": [
    "sd.keys()\n",
    "len(sd)"
   ],
   "outputs": [
    {
     "output_type": "execute_result",
     "data": {
      "text/plain": [
       "dict_keys([52, 2, 23, 62, 6, 92, 73, 47, 86, 32, 67, 42, 36, 3, 50, 35, 17, 45, 16, 48, 95, 91, 89, 85, 74, 28, 49, 58, 12, 33, 14, 9, 8, 29, 43, 39, 38, 84, 57, 31, 21, 71, 15, 24, 78, 5, 90, 87, 51, 40, 1, 46, 66, 56, 7, 88, 72, 77, 34, 68, 26, 64, 18, 76, 30, 80, 61, 99, 79, 41, 27, 94, 22, 4, 82, 0, 10, 37, 25, 60, 70, 13, 19, 75, 69, 54, 65, 81, 98, 11, 55, 44, 59, 20, 83, 96, 97, 93, 53, 63])"
      ]
     },
     "metadata": {},
     "execution_count": 40
    },
    {
     "output_type": "execute_result",
     "data": {
      "text/plain": [
       "100"
      ]
     },
     "metadata": {},
     "execution_count": 40
    }
   ],
   "metadata": {}
  },
  {
   "cell_type": "markdown",
   "source": [
    "### print score ranges"
   ],
   "metadata": {
    "pycharm": {
     "name": "#%% md\n"
    }
   }
  },
  {
   "cell_type": "code",
   "execution_count": 41,
   "source": [
    "utils.print_score_ranges(sd)"
   ],
   "outputs": [
    {
     "output_type": "stream",
     "name": "stdout",
     "text": [
      "                                  min    25-perc     median    75-perc        max       mean\n",
      "--------------------------  ---------  ---------  ---------  ---------  ---------  ---------\n",
      "bert_f_score                -0.204646   0.184353   0.273268   0.363267   0.759015   0.273715\n",
      "bert_precision_score        -0.236365   0.157343   0.241589   0.349258   0.837540   0.254359\n",
      "bert_recall_score           -0.298603   0.192041   0.293846   0.392503   0.843621   0.292258\n",
      "js-2                        -0.693147  -0.609503  -0.561112  -0.501360  -0.236609  -0.548546\n",
      "litepyramid_recall           0.000000   0.271212   0.428571   0.600000   1.000000   0.428492\n",
      "mover_score                  0.008218   0.225100   0.276588   0.339287   0.712943   0.284896\n",
      "ours_bert_scientific_paper   0.196341   0.541347   0.651686   0.752695   0.892718   0.640310\n",
      "rouge_1_f_score              0.123460   0.360585   0.432430   0.509523   0.826090   0.437976\n",
      "rouge_1_precision            0.101690   0.329070   0.403230   0.500000   0.941180   0.418774\n",
      "rouge_1_recall               0.097560   0.379595   0.474580   0.583330   0.935480   0.482917\n",
      "rouge_2_f_score              0.000000   0.114750   0.180330   0.261038   0.644440   0.199736\n",
      "rouge_2_precision            0.000000   0.107690   0.166670   0.250000   0.875000   0.191245\n",
      "rouge_2_recall               0.000000   0.125000   0.200000   0.285710   0.714290   0.220319\n",
      "rouge_l_f_score              0.074070   0.313727   0.395600   0.472828   0.826090   0.400006\n",
      "rouge_l_precision            0.093750   0.290832   0.363640   0.465520   0.941180   0.382594\n",
      "rouge_l_recall               0.061220   0.338980   0.433330   0.533617   0.934780   0.441003\n"
     ]
    }
   ],
   "metadata": {
    "pycharm": {
     "name": "#%%\n"
    },
    "scrolled": true
   }
  },
  {
   "cell_type": "markdown",
   "source": [
    "## how many summaries per document?"
   ],
   "metadata": {
    "pycharm": {
     "name": "#%% md\n"
    }
   }
  },
  {
   "cell_type": "code",
   "execution_count": 42,
   "source": [
    "print(np.mean([len(d['system_summaries']) for d in sd.values()]))"
   ],
   "outputs": [
    {
     "output_type": "stream",
     "name": "stdout",
     "text": [
      "14.0\n"
     ]
    }
   ],
   "metadata": {
    "pycharm": {
     "name": "#%%\n"
    }
   }
  },
  {
   "cell_type": "code",
   "execution_count": 43,
   "source": [
    "len(sd)"
   ],
   "outputs": [
    {
     "output_type": "execute_result",
     "data": {
      "text/plain": [
       "100"
      ]
     },
     "metadata": {},
     "execution_count": 43
    }
   ],
   "metadata": {}
  },
  {
   "cell_type": "markdown",
   "source": [
    "## what metrics found for each document?"
   ],
   "metadata": {
    "pycharm": {
     "name": "#%% md\n"
    }
   }
  },
  {
   "cell_type": "code",
   "execution_count": 44,
   "source": [
    "mlist = utils.get_metrics_list(sd)\n",
    "mlist"
   ],
   "outputs": [
    {
     "output_type": "execute_result",
     "data": {
      "text/plain": [
       "['bert_f_score',\n",
       " 'bert_precision_score',\n",
       " 'bert_recall_score',\n",
       " 'js-2',\n",
       " 'litepyramid_recall',\n",
       " 'mover_score',\n",
       " 'ours_bert_scientific_paper',\n",
       " 'rouge_1_f_score',\n",
       " 'rouge_1_precision',\n",
       " 'rouge_1_recall',\n",
       " 'rouge_2_f_score',\n",
       " 'rouge_2_precision',\n",
       " 'rouge_2_recall',\n",
       " 'rouge_l_f_score',\n",
       " 'rouge_l_precision',\n",
       " 'rouge_l_recall']"
      ]
     },
     "metadata": {},
     "execution_count": 44
    }
   ],
   "metadata": {
    "pycharm": {
     "name": "#%%\n"
    }
   }
  },
  {
   "cell_type": "markdown",
   "source": [
    "## Filter out some metrics if reqd"
   ],
   "metadata": {}
  },
  {
   "cell_type": "code",
   "execution_count": 45,
   "source": [
    "mlist = ['bert_recall_score', 'ours_bert_scientific_paper'#, 'mover_score', 'rouge_1_recall', 'rouge_2_recall', 'rouge_l_recall', 'js-2'\n",
    "    , 'litepyramid_recall']"
   ],
   "outputs": [],
   "metadata": {}
  },
  {
   "cell_type": "markdown",
   "source": [
    "# Write to william's test format - Exp I\n",
    "The below lines writes our data in the appropriate format for william's test. To run william's test see https://github.com/ygraham/nlp-williams"
   ],
   "metadata": {}
  },
  {
   "cell_type": "code",
   "execution_count": 34,
   "source": [
    "W_DATAPATH = \"../williams_test_data/\"\n",
    "human_scores_fp = W_DATAPATH + 'abs_human_scores_100_docs_15_sys_clean.tsv'\n",
    "metric_scores_fp = W_DATAPATH + 'abs_metric_scores_100_docs_15_sys_clean.tsv'"
   ],
   "outputs": [],
   "metadata": {}
  },
  {
   "cell_type": "code",
   "execution_count": 29,
   "source": [
    "header = 'METRIC\\tLP\\tTESTSET\\tSYSTEM\\tSCORE'"
   ],
   "outputs": [],
   "metadata": {}
  },
  {
   "cell_type": "code",
   "execution_count": 46,
   "source": [
    "systems = utils.get_system_level_scores(sd, mlist, agg='mean')\n",
    "len(systems)\n",
    "systems"
   ],
   "outputs": [
    {
     "output_type": "execute_result",
     "data": {
      "text/plain": [
       "14"
      ]
     },
     "metadata": {},
     "execution_count": 46
    },
    {
     "output_type": "execute_result",
     "data": {
      "text/plain": [
       "defaultdict(<function utils.get_system_level_scores.<locals>.<lambda>()>,\n",
       "            {'presumm_out_trans_abs.txt': defaultdict(list,\n",
       "                         {'bert_recall_score': 0.23639445294509642,\n",
       "                          'ours_bert_scientific_paper': 0.6649664621000001,\n",
       "                          'litepyramid_recall': 0.37413331113331116}),\n",
       "             'two_stage_rl_out.txt': defaultdict(list,\n",
       "                         {'bert_recall_score': 0.302131678191945,\n",
       "                          'ours_bert_scientific_paper': 0.6372356404,\n",
       "                          'litepyramid_recall': 0.40588856976356974}),\n",
       "             'unilm_out_v2.txt': defaultdict(list,\n",
       "                         {'bert_recall_score': 0.23502746691927315,\n",
       "                          'ours_bert_scientific_paper': 0.602468622,\n",
       "                          'litepyramid_recall': 0.4565360472860472}),\n",
       "             't5_out_large.txt': defaultdict(list,\n",
       "                         {'bert_recall_score': 0.3154942336399108,\n",
       "                          'ours_bert_scientific_paper': 0.5660430136,\n",
       "                          'litepyramid_recall': 0.4348651903651904}),\n",
       "             'presumm_out_ext_abs.txt': defaultdict(list,\n",
       "                         {'bert_recall_score': 0.26494738976471127,\n",
       "                          'ours_bert_scientific_paper': 0.6402327622,\n",
       "                          'litepyramid_recall': 0.4234427100677101}),\n",
       "             'ptr_generator_out_pointer_gen_cov.txt': defaultdict(list,\n",
       "                         {'bert_recall_score': 0.2383607214433141,\n",
       "                          'ours_bert_scientific_paper': 0.6253132951000001,\n",
       "                          'litepyramid_recall': 0.355099802974803}),\n",
       "             'bart_out.txt': defaultdict(list,\n",
       "                         {'bert_recall_score': 0.3993247,\n",
       "                          'ours_bert_scientific_paper': 0.7181374466,\n",
       "                          'litepyramid_recall': 0.5367819541569542}),\n",
       "             'fast_abs_rl_out_rerank.txt': defaultdict(list,\n",
       "                         {'bert_recall_score': 0.26244280544575305,\n",
       "                          'ours_bert_scientific_paper': 0.7214425936,\n",
       "                          'litepyramid_recall': 0.39896986346986346}),\n",
       "             't5_out_11B.txt': defaultdict(list,\n",
       "                         {'bert_recall_score': 0.33260820819530634,\n",
       "                          'ours_bert_scientific_paper': 0.6110984890000001,\n",
       "                          'litepyramid_recall': 0.46166207403707404}),\n",
       "             'presumm_out_abs.txt': defaultdict(list,\n",
       "                         {'bert_recall_score': 0.2643683717853855,\n",
       "                          'ours_bert_scientific_paper': 0.6044985489,\n",
       "                          'litepyramid_recall': 0.40577813852813854}),\n",
       "             'bottom_up_out.txt': defaultdict(list,\n",
       "                         {'bert_recall_score': 0.2490344987437129,\n",
       "                          'ours_bert_scientific_paper': 0.5634305020999999,\n",
       "                          'litepyramid_recall': 0.31726934176934174}),\n",
       "             'unilm_out_v1.txt': defaultdict(list,\n",
       "                         {'bert_recall_score': 0.3218906713556498,\n",
       "                          'ours_bert_scientific_paper': 0.6931041979999999,\n",
       "                          'litepyramid_recall': 0.45090105727605734}),\n",
       "             't5_out_base.txt': defaultdict(list,\n",
       "                         {'bert_recall_score': 0.29902413116768,\n",
       "                          'ours_bert_scientific_paper': 0.5951318218999999,\n",
       "                          'litepyramid_recall': 0.41573380785880787}),\n",
       "             'semsim_out.txt': defaultdict(list,\n",
       "                         {'bert_recall_score': 0.3705558986403048,\n",
       "                          'ours_bert_scientific_paper': 0.7212403724999998,\n",
       "                          'litepyramid_recall': 0.561820942945943})})"
      ]
     },
     "metadata": {},
     "execution_count": 46
    }
   ],
   "metadata": {}
  },
  {
   "cell_type": "code",
   "execution_count": 37,
   "source": [
    "with open(human_scores_fp, 'w') as f:\n",
    "    f.write(header + '\\n')\n",
    "    for sys_name in systems:\n",
    "        _ = f.write(f\"HUMAN\\ten-en\\tcnndm\\t{sys_name}\\t{systems[sys_name]['litepyramid_recall']}\\n\")"
   ],
   "outputs": [
    {
     "output_type": "execute_result",
     "data": {
      "text/plain": [
       "31"
      ]
     },
     "metadata": {},
     "execution_count": 37
    }
   ],
   "metadata": {}
  },
  {
   "cell_type": "code",
   "execution_count": 38,
   "source": [
    "with open(metric_scores_fp, 'w') as f:\n",
    "    f.write(header + '\\n')\n",
    "    for m in mlist:\n",
    "        if m == 'litepyramid_recall':\n",
    "            continue\n",
    "        for sys_name in systems:\n",
    "            _ = f.write(f\"{m}\\ten-en\\tcnndm\\t{sys_name}\\t{systems[sys_name][m]}\\n\")"
   ],
   "outputs": [
    {
     "output_type": "execute_result",
     "data": {
      "text/plain": [
       "31"
      ]
     },
     "metadata": {},
     "execution_count": 38
    }
   ],
   "metadata": {}
  },
  {
   "cell_type": "markdown",
   "source": [
    "# System level analysis - Exp II"
   ],
   "metadata": {}
  },
  {
   "cell_type": "code",
   "execution_count": 47,
   "source": [
    "# plot k vs disagreements\n",
    "kvalues = [15, 14, 12, 10, 8, 6, 4]\n",
    "all_pairs = [('litepyramid_recall', m) for m in mlist if m != 'litepyramid_recall']\n",
    "systems = utils.get_system_level_scores(sd, mlist, agg='mean')\n",
    "sorting_metric = 'litepyramid_recall'\n",
    "correlation_method = 'kendalltau'\n",
    "\n",
    "y = ddict(list)\n",
    "for k in kvalues:\n",
    "    top_ksystems = utils.get_topk(systems, k, metric=sorting_metric)\n",
    "    corr, pval = utils.get_correlation(top_ksystems, metric_pairs=all_pairs, method=correlation_method)\n",
    "    for key in corr:\n",
    "        y[key].append(corr[key])\n",
    "        \n",
    "data = {\n",
    "    'x': kvalues,\n",
    "    **y,\n",
    "}\n",
    "labels = list(y.keys())\n",
    "\n",
    "ax = plt.axes([0, 0, 2, 2])\n",
    "lines = []\n",
    "for label in labels:\n",
    "    lines.append(ax.plot('x', label, data=data, linewidth=6.0, marker='o',\n",
    "                         linestyle=':' if 'pyramid' in label else None))\n",
    "plt.gca().invert_xaxis()\n",
    "ax.legend(prop={'size': 15})\n",
    "ax.set_xlabel(f\"top k systems according to {sorting_metric}\", fontsize=25)\n",
    "ax.set_ylabel(f\"{correlation_method} correlation between different metric pairs\", fontsize=25)\n",
    "plt.ylim(-1, 1)"
   ],
   "outputs": [
    {
     "output_type": "execute_result",
     "data": {
      "text/plain": [
       "<matplotlib.legend.Legend at 0x7faf0edfd6d0>"
      ]
     },
     "metadata": {},
     "execution_count": 47
    },
    {
     "output_type": "execute_result",
     "data": {
      "text/plain": [
       "Text(0.5, 0, 'top k systems according to litepyramid_recall')"
      ]
     },
     "metadata": {},
     "execution_count": 47
    },
    {
     "output_type": "execute_result",
     "data": {
      "text/plain": [
       "Text(0, 0.5, 'kendalltau correlation between different metric pairs')"
      ]
     },
     "metadata": {},
     "execution_count": 47
    },
    {
     "output_type": "execute_result",
     "data": {
      "text/plain": [
       "(-1.0, 1.0)"
      ]
     },
     "metadata": {},
     "execution_count": 47
    },
    {
     "output_type": "display_data",
     "data": {
      "text/plain": [
       "<Figure size 432x288 with 1 Axes>"
      ],
      "image/svg+xml": "<?xml version=\"1.0\" encoding=\"utf-8\" standalone=\"no\"?>\n<!DOCTYPE svg PUBLIC \"-//W3C//DTD SVG 1.1//EN\"\n  \"http://www.w3.org/Graphics/SVG/1.1/DTD/svg11.dtd\">\n<svg height=\"678.617187pt\" version=\"1.1\" viewBox=\"0 0 944.240625 678.617187\" width=\"944.240625pt\" xmlns=\"http://www.w3.org/2000/svg\" xmlns:xlink=\"http://www.w3.org/1999/xlink\">\n <metadata>\n  <rdf:RDF xmlns:cc=\"http://creativecommons.org/ns#\" xmlns:dc=\"http://purl.org/dc/elements/1.1/\" xmlns:rdf=\"http://www.w3.org/1999/02/22-rdf-syntax-ns#\">\n   <cc:Work>\n    <dc:type rdf:resource=\"http://purl.org/dc/dcmitype/StillImage\"/>\n    <dc:date>2021-08-29T23:35:29.044719</dc:date>\n    <dc:format>image/svg+xml</dc:format>\n    <dc:creator>\n     <cc:Agent>\n      <dc:title>Matplotlib v3.4.2, https://matplotlib.org/</dc:title>\n     </cc:Agent>\n    </dc:creator>\n   </cc:Work>\n  </rdf:RDF>\n </metadata>\n <defs>\n  <style type=\"text/css\">*{stroke-linecap:butt;stroke-linejoin:round;}</style>\n </defs>\n <g id=\"figure_1\">\n  <g id=\"patch_1\">\n   <path d=\"M 0 678.617187 \nL 944.240625 678.617187 \nL 944.240625 0 \nL 0 0 \nz\n\" style=\"fill:none;\"/>\n  </g>\n  <g id=\"axes_1\">\n   <g id=\"patch_2\">\n    <path d=\"M 73.040625 625.848437 \nL 937.040625 625.848437 \nL 937.040625 49.848437 \nL 73.040625 49.848437 \nz\n\" style=\"fill:#ffffff;\"/>\n   </g>\n   <g id=\"matplotlib.axis_1\">\n    <g id=\"xtick_1\">\n     <g id=\"line2d_1\">\n      <defs>\n       <path d=\"M 0 0 \nL 0 3.5 \n\" id=\"m55b3206ccb\" style=\"stroke:#000000;stroke-width:0.8;\"/>\n      </defs>\n      <g>\n       <use style=\"stroke:#000000;stroke-width:0.8;\" x=\"897.767898\" xlink:href=\"#m55b3206ccb\" y=\"625.848437\"/>\n      </g>\n     </g>\n     <g id=\"text_1\">\n      <!-- 4 -->\n      <g transform=\"translate(894.586648 640.446875)scale(0.1 -0.1)\">\n       <defs>\n        <path d=\"M 2419 4116 \nL 825 1625 \nL 2419 1625 \nL 2419 4116 \nz\nM 2253 4666 \nL 3047 4666 \nL 3047 1625 \nL 3713 1625 \nL 3713 1100 \nL 3047 1100 \nL 3047 0 \nL 2419 0 \nL 2419 1100 \nL 313 1100 \nL 313 1709 \nL 2253 4666 \nz\n\" id=\"DejaVuSans-34\" transform=\"scale(0.015625)\"/>\n       </defs>\n       <use xlink:href=\"#DejaVuSans-34\"/>\n      </g>\n     </g>\n    </g>\n    <g id=\"xtick_2\">\n     <g id=\"line2d_2\">\n      <g>\n       <use style=\"stroke:#000000;stroke-width:0.8;\" x=\"754.95798\" xlink:href=\"#m55b3206ccb\" y=\"625.848437\"/>\n      </g>\n     </g>\n     <g id=\"text_2\">\n      <!-- 6 -->\n      <g transform=\"translate(751.77673 640.446875)scale(0.1 -0.1)\">\n       <defs>\n        <path d=\"M 2113 2584 \nQ 1688 2584 1439 2293 \nQ 1191 2003 1191 1497 \nQ 1191 994 1439 701 \nQ 1688 409 2113 409 \nQ 2538 409 2786 701 \nQ 3034 994 3034 1497 \nQ 3034 2003 2786 2293 \nQ 2538 2584 2113 2584 \nz\nM 3366 4563 \nL 3366 3988 \nQ 3128 4100 2886 4159 \nQ 2644 4219 2406 4219 \nQ 1781 4219 1451 3797 \nQ 1122 3375 1075 2522 \nQ 1259 2794 1537 2939 \nQ 1816 3084 2150 3084 \nQ 2853 3084 3261 2657 \nQ 3669 2231 3669 1497 \nQ 3669 778 3244 343 \nQ 2819 -91 2113 -91 \nQ 1303 -91 875 529 \nQ 447 1150 447 2328 \nQ 447 3434 972 4092 \nQ 1497 4750 2381 4750 \nQ 2619 4750 2861 4703 \nQ 3103 4656 3366 4563 \nz\n\" id=\"DejaVuSans-36\" transform=\"scale(0.015625)\"/>\n       </defs>\n       <use xlink:href=\"#DejaVuSans-36\"/>\n      </g>\n     </g>\n    </g>\n    <g id=\"xtick_3\">\n     <g id=\"line2d_3\">\n      <g>\n       <use style=\"stroke:#000000;stroke-width:0.8;\" x=\"612.148063\" xlink:href=\"#m55b3206ccb\" y=\"625.848437\"/>\n      </g>\n     </g>\n     <g id=\"text_3\">\n      <!-- 8 -->\n      <g transform=\"translate(608.966813 640.446875)scale(0.1 -0.1)\">\n       <defs>\n        <path d=\"M 2034 2216 \nQ 1584 2216 1326 1975 \nQ 1069 1734 1069 1313 \nQ 1069 891 1326 650 \nQ 1584 409 2034 409 \nQ 2484 409 2743 651 \nQ 3003 894 3003 1313 \nQ 3003 1734 2745 1975 \nQ 2488 2216 2034 2216 \nz\nM 1403 2484 \nQ 997 2584 770 2862 \nQ 544 3141 544 3541 \nQ 544 4100 942 4425 \nQ 1341 4750 2034 4750 \nQ 2731 4750 3128 4425 \nQ 3525 4100 3525 3541 \nQ 3525 3141 3298 2862 \nQ 3072 2584 2669 2484 \nQ 3125 2378 3379 2068 \nQ 3634 1759 3634 1313 \nQ 3634 634 3220 271 \nQ 2806 -91 2034 -91 \nQ 1263 -91 848 271 \nQ 434 634 434 1313 \nQ 434 1759 690 2068 \nQ 947 2378 1403 2484 \nz\nM 1172 3481 \nQ 1172 3119 1398 2916 \nQ 1625 2713 2034 2713 \nQ 2441 2713 2670 2916 \nQ 2900 3119 2900 3481 \nQ 2900 3844 2670 4047 \nQ 2441 4250 2034 4250 \nQ 1625 4250 1398 4047 \nQ 1172 3844 1172 3481 \nz\n\" id=\"DejaVuSans-38\" transform=\"scale(0.015625)\"/>\n       </defs>\n       <use xlink:href=\"#DejaVuSans-38\"/>\n      </g>\n     </g>\n    </g>\n    <g id=\"xtick_4\">\n     <g id=\"line2d_4\">\n      <g>\n       <use style=\"stroke:#000000;stroke-width:0.8;\" x=\"469.338146\" xlink:href=\"#m55b3206ccb\" y=\"625.848437\"/>\n      </g>\n     </g>\n     <g id=\"text_4\">\n      <!-- 10 -->\n      <g transform=\"translate(462.975646 640.446875)scale(0.1 -0.1)\">\n       <defs>\n        <path d=\"M 794 531 \nL 1825 531 \nL 1825 4091 \nL 703 3866 \nL 703 4441 \nL 1819 4666 \nL 2450 4666 \nL 2450 531 \nL 3481 531 \nL 3481 0 \nL 794 0 \nL 794 531 \nz\n\" id=\"DejaVuSans-31\" transform=\"scale(0.015625)\"/>\n        <path d=\"M 2034 4250 \nQ 1547 4250 1301 3770 \nQ 1056 3291 1056 2328 \nQ 1056 1369 1301 889 \nQ 1547 409 2034 409 \nQ 2525 409 2770 889 \nQ 3016 1369 3016 2328 \nQ 3016 3291 2770 3770 \nQ 2525 4250 2034 4250 \nz\nM 2034 4750 \nQ 2819 4750 3233 4129 \nQ 3647 3509 3647 2328 \nQ 3647 1150 3233 529 \nQ 2819 -91 2034 -91 \nQ 1250 -91 836 529 \nQ 422 1150 422 2328 \nQ 422 3509 836 4129 \nQ 1250 4750 2034 4750 \nz\n\" id=\"DejaVuSans-30\" transform=\"scale(0.015625)\"/>\n       </defs>\n       <use xlink:href=\"#DejaVuSans-31\"/>\n       <use x=\"63.623047\" xlink:href=\"#DejaVuSans-30\"/>\n      </g>\n     </g>\n    </g>\n    <g id=\"xtick_5\">\n     <g id=\"line2d_5\">\n      <g>\n       <use style=\"stroke:#000000;stroke-width:0.8;\" x=\"326.528228\" xlink:href=\"#m55b3206ccb\" y=\"625.848437\"/>\n      </g>\n     </g>\n     <g id=\"text_5\">\n      <!-- 12 -->\n      <g transform=\"translate(320.165728 640.446875)scale(0.1 -0.1)\">\n       <defs>\n        <path d=\"M 1228 531 \nL 3431 531 \nL 3431 0 \nL 469 0 \nL 469 531 \nQ 828 903 1448 1529 \nQ 2069 2156 2228 2338 \nQ 2531 2678 2651 2914 \nQ 2772 3150 2772 3378 \nQ 2772 3750 2511 3984 \nQ 2250 4219 1831 4219 \nQ 1534 4219 1204 4116 \nQ 875 4013 500 3803 \nL 500 4441 \nQ 881 4594 1212 4672 \nQ 1544 4750 1819 4750 \nQ 2544 4750 2975 4387 \nQ 3406 4025 3406 3419 \nQ 3406 3131 3298 2873 \nQ 3191 2616 2906 2266 \nQ 2828 2175 2409 1742 \nQ 1991 1309 1228 531 \nz\n\" id=\"DejaVuSans-32\" transform=\"scale(0.015625)\"/>\n       </defs>\n       <use xlink:href=\"#DejaVuSans-31\"/>\n       <use x=\"63.623047\" xlink:href=\"#DejaVuSans-32\"/>\n      </g>\n     </g>\n    </g>\n    <g id=\"xtick_6\">\n     <g id=\"line2d_6\">\n      <g>\n       <use style=\"stroke:#000000;stroke-width:0.8;\" x=\"183.718311\" xlink:href=\"#m55b3206ccb\" y=\"625.848437\"/>\n      </g>\n     </g>\n     <g id=\"text_6\">\n      <!-- 14 -->\n      <g transform=\"translate(177.355811 640.446875)scale(0.1 -0.1)\">\n       <use xlink:href=\"#DejaVuSans-31\"/>\n       <use x=\"63.623047\" xlink:href=\"#DejaVuSans-34\"/>\n      </g>\n     </g>\n    </g>\n    <g id=\"text_7\">\n     <!-- top k systems according to litepyramid_recall -->\n     <g transform=\"translate(220.433203 665.522656)scale(0.25 -0.25)\">\n      <defs>\n       <path d=\"M 1172 4494 \nL 1172 3500 \nL 2356 3500 \nL 2356 3053 \nL 1172 3053 \nL 1172 1153 \nQ 1172 725 1289 603 \nQ 1406 481 1766 481 \nL 2356 481 \nL 2356 0 \nL 1766 0 \nQ 1100 0 847 248 \nQ 594 497 594 1153 \nL 594 3053 \nL 172 3053 \nL 172 3500 \nL 594 3500 \nL 594 4494 \nL 1172 4494 \nz\n\" id=\"DejaVuSans-74\" transform=\"scale(0.015625)\"/>\n       <path d=\"M 1959 3097 \nQ 1497 3097 1228 2736 \nQ 959 2375 959 1747 \nQ 959 1119 1226 758 \nQ 1494 397 1959 397 \nQ 2419 397 2687 759 \nQ 2956 1122 2956 1747 \nQ 2956 2369 2687 2733 \nQ 2419 3097 1959 3097 \nz\nM 1959 3584 \nQ 2709 3584 3137 3096 \nQ 3566 2609 3566 1747 \nQ 3566 888 3137 398 \nQ 2709 -91 1959 -91 \nQ 1206 -91 779 398 \nQ 353 888 353 1747 \nQ 353 2609 779 3096 \nQ 1206 3584 1959 3584 \nz\n\" id=\"DejaVuSans-6f\" transform=\"scale(0.015625)\"/>\n       <path d=\"M 1159 525 \nL 1159 -1331 \nL 581 -1331 \nL 581 3500 \nL 1159 3500 \nL 1159 2969 \nQ 1341 3281 1617 3432 \nQ 1894 3584 2278 3584 \nQ 2916 3584 3314 3078 \nQ 3713 2572 3713 1747 \nQ 3713 922 3314 415 \nQ 2916 -91 2278 -91 \nQ 1894 -91 1617 61 \nQ 1341 213 1159 525 \nz\nM 3116 1747 \nQ 3116 2381 2855 2742 \nQ 2594 3103 2138 3103 \nQ 1681 3103 1420 2742 \nQ 1159 2381 1159 1747 \nQ 1159 1113 1420 752 \nQ 1681 391 2138 391 \nQ 2594 391 2855 752 \nQ 3116 1113 3116 1747 \nz\n\" id=\"DejaVuSans-70\" transform=\"scale(0.015625)\"/>\n       <path id=\"DejaVuSans-20\" transform=\"scale(0.015625)\"/>\n       <path d=\"M 581 4863 \nL 1159 4863 \nL 1159 1991 \nL 2875 3500 \nL 3609 3500 \nL 1753 1863 \nL 3688 0 \nL 2938 0 \nL 1159 1709 \nL 1159 0 \nL 581 0 \nL 581 4863 \nz\n\" id=\"DejaVuSans-6b\" transform=\"scale(0.015625)\"/>\n       <path d=\"M 2834 3397 \nL 2834 2853 \nQ 2591 2978 2328 3040 \nQ 2066 3103 1784 3103 \nQ 1356 3103 1142 2972 \nQ 928 2841 928 2578 \nQ 928 2378 1081 2264 \nQ 1234 2150 1697 2047 \nL 1894 2003 \nQ 2506 1872 2764 1633 \nQ 3022 1394 3022 966 \nQ 3022 478 2636 193 \nQ 2250 -91 1575 -91 \nQ 1294 -91 989 -36 \nQ 684 19 347 128 \nL 347 722 \nQ 666 556 975 473 \nQ 1284 391 1588 391 \nQ 1994 391 2212 530 \nQ 2431 669 2431 922 \nQ 2431 1156 2273 1281 \nQ 2116 1406 1581 1522 \nL 1381 1569 \nQ 847 1681 609 1914 \nQ 372 2147 372 2553 \nQ 372 3047 722 3315 \nQ 1072 3584 1716 3584 \nQ 2034 3584 2315 3537 \nQ 2597 3491 2834 3397 \nz\n\" id=\"DejaVuSans-73\" transform=\"scale(0.015625)\"/>\n       <path d=\"M 2059 -325 \nQ 1816 -950 1584 -1140 \nQ 1353 -1331 966 -1331 \nL 506 -1331 \nL 506 -850 \nL 844 -850 \nQ 1081 -850 1212 -737 \nQ 1344 -625 1503 -206 \nL 1606 56 \nL 191 3500 \nL 800 3500 \nL 1894 763 \nL 2988 3500 \nL 3597 3500 \nL 2059 -325 \nz\n\" id=\"DejaVuSans-79\" transform=\"scale(0.015625)\"/>\n       <path d=\"M 3597 1894 \nL 3597 1613 \nL 953 1613 \nQ 991 1019 1311 708 \nQ 1631 397 2203 397 \nQ 2534 397 2845 478 \nQ 3156 559 3463 722 \nL 3463 178 \nQ 3153 47 2828 -22 \nQ 2503 -91 2169 -91 \nQ 1331 -91 842 396 \nQ 353 884 353 1716 \nQ 353 2575 817 3079 \nQ 1281 3584 2069 3584 \nQ 2775 3584 3186 3129 \nQ 3597 2675 3597 1894 \nz\nM 3022 2063 \nQ 3016 2534 2758 2815 \nQ 2500 3097 2075 3097 \nQ 1594 3097 1305 2825 \nQ 1016 2553 972 2059 \nL 3022 2063 \nz\n\" id=\"DejaVuSans-65\" transform=\"scale(0.015625)\"/>\n       <path d=\"M 3328 2828 \nQ 3544 3216 3844 3400 \nQ 4144 3584 4550 3584 \nQ 5097 3584 5394 3201 \nQ 5691 2819 5691 2113 \nL 5691 0 \nL 5113 0 \nL 5113 2094 \nQ 5113 2597 4934 2840 \nQ 4756 3084 4391 3084 \nQ 3944 3084 3684 2787 \nQ 3425 2491 3425 1978 \nL 3425 0 \nL 2847 0 \nL 2847 2094 \nQ 2847 2600 2669 2842 \nQ 2491 3084 2119 3084 \nQ 1678 3084 1418 2786 \nQ 1159 2488 1159 1978 \nL 1159 0 \nL 581 0 \nL 581 3500 \nL 1159 3500 \nL 1159 2956 \nQ 1356 3278 1631 3431 \nQ 1906 3584 2284 3584 \nQ 2666 3584 2933 3390 \nQ 3200 3197 3328 2828 \nz\n\" id=\"DejaVuSans-6d\" transform=\"scale(0.015625)\"/>\n       <path d=\"M 2194 1759 \nQ 1497 1759 1228 1600 \nQ 959 1441 959 1056 \nQ 959 750 1161 570 \nQ 1363 391 1709 391 \nQ 2188 391 2477 730 \nQ 2766 1069 2766 1631 \nL 2766 1759 \nL 2194 1759 \nz\nM 3341 1997 \nL 3341 0 \nL 2766 0 \nL 2766 531 \nQ 2569 213 2275 61 \nQ 1981 -91 1556 -91 \nQ 1019 -91 701 211 \nQ 384 513 384 1019 \nQ 384 1609 779 1909 \nQ 1175 2209 1959 2209 \nL 2766 2209 \nL 2766 2266 \nQ 2766 2663 2505 2880 \nQ 2244 3097 1772 3097 \nQ 1472 3097 1187 3025 \nQ 903 2953 641 2809 \nL 641 3341 \nQ 956 3463 1253 3523 \nQ 1550 3584 1831 3584 \nQ 2591 3584 2966 3190 \nQ 3341 2797 3341 1997 \nz\n\" id=\"DejaVuSans-61\" transform=\"scale(0.015625)\"/>\n       <path d=\"M 3122 3366 \nL 3122 2828 \nQ 2878 2963 2633 3030 \nQ 2388 3097 2138 3097 \nQ 1578 3097 1268 2742 \nQ 959 2388 959 1747 \nQ 959 1106 1268 751 \nQ 1578 397 2138 397 \nQ 2388 397 2633 464 \nQ 2878 531 3122 666 \nL 3122 134 \nQ 2881 22 2623 -34 \nQ 2366 -91 2075 -91 \nQ 1284 -91 818 406 \nQ 353 903 353 1747 \nQ 353 2603 823 3093 \nQ 1294 3584 2113 3584 \nQ 2378 3584 2631 3529 \nQ 2884 3475 3122 3366 \nz\n\" id=\"DejaVuSans-63\" transform=\"scale(0.015625)\"/>\n       <path d=\"M 2631 2963 \nQ 2534 3019 2420 3045 \nQ 2306 3072 2169 3072 \nQ 1681 3072 1420 2755 \nQ 1159 2438 1159 1844 \nL 1159 0 \nL 581 0 \nL 581 3500 \nL 1159 3500 \nL 1159 2956 \nQ 1341 3275 1631 3429 \nQ 1922 3584 2338 3584 \nQ 2397 3584 2469 3576 \nQ 2541 3569 2628 3553 \nL 2631 2963 \nz\n\" id=\"DejaVuSans-72\" transform=\"scale(0.015625)\"/>\n       <path d=\"M 2906 2969 \nL 2906 4863 \nL 3481 4863 \nL 3481 0 \nL 2906 0 \nL 2906 525 \nQ 2725 213 2448 61 \nQ 2172 -91 1784 -91 \nQ 1150 -91 751 415 \nQ 353 922 353 1747 \nQ 353 2572 751 3078 \nQ 1150 3584 1784 3584 \nQ 2172 3584 2448 3432 \nQ 2725 3281 2906 2969 \nz\nM 947 1747 \nQ 947 1113 1208 752 \nQ 1469 391 1925 391 \nQ 2381 391 2643 752 \nQ 2906 1113 2906 1747 \nQ 2906 2381 2643 2742 \nQ 2381 3103 1925 3103 \nQ 1469 3103 1208 2742 \nQ 947 2381 947 1747 \nz\n\" id=\"DejaVuSans-64\" transform=\"scale(0.015625)\"/>\n       <path d=\"M 603 3500 \nL 1178 3500 \nL 1178 0 \nL 603 0 \nL 603 3500 \nz\nM 603 4863 \nL 1178 4863 \nL 1178 4134 \nL 603 4134 \nL 603 4863 \nz\n\" id=\"DejaVuSans-69\" transform=\"scale(0.015625)\"/>\n       <path d=\"M 3513 2113 \nL 3513 0 \nL 2938 0 \nL 2938 2094 \nQ 2938 2591 2744 2837 \nQ 2550 3084 2163 3084 \nQ 1697 3084 1428 2787 \nQ 1159 2491 1159 1978 \nL 1159 0 \nL 581 0 \nL 581 3500 \nL 1159 3500 \nL 1159 2956 \nQ 1366 3272 1645 3428 \nQ 1925 3584 2291 3584 \nQ 2894 3584 3203 3211 \nQ 3513 2838 3513 2113 \nz\n\" id=\"DejaVuSans-6e\" transform=\"scale(0.015625)\"/>\n       <path d=\"M 2906 1791 \nQ 2906 2416 2648 2759 \nQ 2391 3103 1925 3103 \nQ 1463 3103 1205 2759 \nQ 947 2416 947 1791 \nQ 947 1169 1205 825 \nQ 1463 481 1925 481 \nQ 2391 481 2648 825 \nQ 2906 1169 2906 1791 \nz\nM 3481 434 \nQ 3481 -459 3084 -895 \nQ 2688 -1331 1869 -1331 \nQ 1566 -1331 1297 -1286 \nQ 1028 -1241 775 -1147 \nL 775 -588 \nQ 1028 -725 1275 -790 \nQ 1522 -856 1778 -856 \nQ 2344 -856 2625 -561 \nQ 2906 -266 2906 331 \nL 2906 616 \nQ 2728 306 2450 153 \nQ 2172 0 1784 0 \nQ 1141 0 747 490 \nQ 353 981 353 1791 \nQ 353 2603 747 3093 \nQ 1141 3584 1784 3584 \nQ 2172 3584 2450 3431 \nQ 2728 3278 2906 2969 \nL 2906 3500 \nL 3481 3500 \nL 3481 434 \nz\n\" id=\"DejaVuSans-67\" transform=\"scale(0.015625)\"/>\n       <path d=\"M 603 4863 \nL 1178 4863 \nL 1178 0 \nL 603 0 \nL 603 4863 \nz\n\" id=\"DejaVuSans-6c\" transform=\"scale(0.015625)\"/>\n       <path d=\"M 3263 -1063 \nL 3263 -1509 \nL -63 -1509 \nL -63 -1063 \nL 3263 -1063 \nz\n\" id=\"DejaVuSans-5f\" transform=\"scale(0.015625)\"/>\n      </defs>\n      <use xlink:href=\"#DejaVuSans-74\"/>\n      <use x=\"39.208984\" xlink:href=\"#DejaVuSans-6f\"/>\n      <use x=\"100.390625\" xlink:href=\"#DejaVuSans-70\"/>\n      <use x=\"163.867188\" xlink:href=\"#DejaVuSans-20\"/>\n      <use x=\"195.654297\" xlink:href=\"#DejaVuSans-6b\"/>\n      <use x=\"253.564453\" xlink:href=\"#DejaVuSans-20\"/>\n      <use x=\"285.351562\" xlink:href=\"#DejaVuSans-73\"/>\n      <use x=\"337.451172\" xlink:href=\"#DejaVuSans-79\"/>\n      <use x=\"396.630859\" xlink:href=\"#DejaVuSans-73\"/>\n      <use x=\"448.730469\" xlink:href=\"#DejaVuSans-74\"/>\n      <use x=\"487.939453\" xlink:href=\"#DejaVuSans-65\"/>\n      <use x=\"549.462891\" xlink:href=\"#DejaVuSans-6d\"/>\n      <use x=\"646.875\" xlink:href=\"#DejaVuSans-73\"/>\n      <use x=\"698.974609\" xlink:href=\"#DejaVuSans-20\"/>\n      <use x=\"730.761719\" xlink:href=\"#DejaVuSans-61\"/>\n      <use x=\"792.041016\" xlink:href=\"#DejaVuSans-63\"/>\n      <use x=\"847.021484\" xlink:href=\"#DejaVuSans-63\"/>\n      <use x=\"902.001953\" xlink:href=\"#DejaVuSans-6f\"/>\n      <use x=\"963.183594\" xlink:href=\"#DejaVuSans-72\"/>\n      <use x=\"1002.546875\" xlink:href=\"#DejaVuSans-64\"/>\n      <use x=\"1066.023438\" xlink:href=\"#DejaVuSans-69\"/>\n      <use x=\"1093.806641\" xlink:href=\"#DejaVuSans-6e\"/>\n      <use x=\"1157.185547\" xlink:href=\"#DejaVuSans-67\"/>\n      <use x=\"1220.662109\" xlink:href=\"#DejaVuSans-20\"/>\n      <use x=\"1252.449219\" xlink:href=\"#DejaVuSans-74\"/>\n      <use x=\"1291.658203\" xlink:href=\"#DejaVuSans-6f\"/>\n      <use x=\"1352.839844\" xlink:href=\"#DejaVuSans-20\"/>\n      <use x=\"1384.626953\" xlink:href=\"#DejaVuSans-6c\"/>\n      <use x=\"1412.410156\" xlink:href=\"#DejaVuSans-69\"/>\n      <use x=\"1440.193359\" xlink:href=\"#DejaVuSans-74\"/>\n      <use x=\"1479.402344\" xlink:href=\"#DejaVuSans-65\"/>\n      <use x=\"1540.925781\" xlink:href=\"#DejaVuSans-70\"/>\n      <use x=\"1604.402344\" xlink:href=\"#DejaVuSans-79\"/>\n      <use x=\"1663.582031\" xlink:href=\"#DejaVuSans-72\"/>\n      <use x=\"1704.695312\" xlink:href=\"#DejaVuSans-61\"/>\n      <use x=\"1765.974609\" xlink:href=\"#DejaVuSans-6d\"/>\n      <use x=\"1863.386719\" xlink:href=\"#DejaVuSans-69\"/>\n      <use x=\"1891.169922\" xlink:href=\"#DejaVuSans-64\"/>\n      <use x=\"1954.646484\" xlink:href=\"#DejaVuSans-5f\"/>\n      <use x=\"2004.646484\" xlink:href=\"#DejaVuSans-72\"/>\n      <use x=\"2043.509766\" xlink:href=\"#DejaVuSans-65\"/>\n      <use x=\"2105.033203\" xlink:href=\"#DejaVuSans-63\"/>\n      <use x=\"2160.013672\" xlink:href=\"#DejaVuSans-61\"/>\n      <use x=\"2221.292969\" xlink:href=\"#DejaVuSans-6c\"/>\n      <use x=\"2249.076172\" xlink:href=\"#DejaVuSans-6c\"/>\n     </g>\n    </g>\n   </g>\n   <g id=\"matplotlib.axis_2\">\n    <g id=\"ytick_1\">\n     <g id=\"line2d_7\">\n      <defs>\n       <path d=\"M 0 0 \nL -3.5 0 \n\" id=\"m9b2e19c8fe\" style=\"stroke:#000000;stroke-width:0.8;\"/>\n      </defs>\n      <g>\n       <use style=\"stroke:#000000;stroke-width:0.8;\" x=\"73.040625\" xlink:href=\"#m9b2e19c8fe\" y=\"625.848437\"/>\n      </g>\n     </g>\n     <g id=\"text_8\">\n      <!-- −1.00 -->\n      <g transform=\"translate(35.395313 629.647656)scale(0.1 -0.1)\">\n       <defs>\n        <path d=\"M 678 2272 \nL 4684 2272 \nL 4684 1741 \nL 678 1741 \nL 678 2272 \nz\n\" id=\"DejaVuSans-2212\" transform=\"scale(0.015625)\"/>\n        <path d=\"M 684 794 \nL 1344 794 \nL 1344 0 \nL 684 0 \nL 684 794 \nz\n\" id=\"DejaVuSans-2e\" transform=\"scale(0.015625)\"/>\n       </defs>\n       <use xlink:href=\"#DejaVuSans-2212\"/>\n       <use x=\"83.789062\" xlink:href=\"#DejaVuSans-31\"/>\n       <use x=\"147.412109\" xlink:href=\"#DejaVuSans-2e\"/>\n       <use x=\"179.199219\" xlink:href=\"#DejaVuSans-30\"/>\n       <use x=\"242.822266\" xlink:href=\"#DejaVuSans-30\"/>\n      </g>\n     </g>\n    </g>\n    <g id=\"ytick_2\">\n     <g id=\"line2d_8\">\n      <g>\n       <use style=\"stroke:#000000;stroke-width:0.8;\" x=\"73.040625\" xlink:href=\"#m9b2e19c8fe\" y=\"553.848437\"/>\n      </g>\n     </g>\n     <g id=\"text_9\">\n      <!-- −0.75 -->\n      <g transform=\"translate(35.395313 557.647656)scale(0.1 -0.1)\">\n       <defs>\n        <path d=\"M 525 4666 \nL 3525 4666 \nL 3525 4397 \nL 1831 0 \nL 1172 0 \nL 2766 4134 \nL 525 4134 \nL 525 4666 \nz\n\" id=\"DejaVuSans-37\" transform=\"scale(0.015625)\"/>\n        <path d=\"M 691 4666 \nL 3169 4666 \nL 3169 4134 \nL 1269 4134 \nL 1269 2991 \nQ 1406 3038 1543 3061 \nQ 1681 3084 1819 3084 \nQ 2600 3084 3056 2656 \nQ 3513 2228 3513 1497 \nQ 3513 744 3044 326 \nQ 2575 -91 1722 -91 \nQ 1428 -91 1123 -41 \nQ 819 9 494 109 \nL 494 744 \nQ 775 591 1075 516 \nQ 1375 441 1709 441 \nQ 2250 441 2565 725 \nQ 2881 1009 2881 1497 \nQ 2881 1984 2565 2268 \nQ 2250 2553 1709 2553 \nQ 1456 2553 1204 2497 \nQ 953 2441 691 2322 \nL 691 4666 \nz\n\" id=\"DejaVuSans-35\" transform=\"scale(0.015625)\"/>\n       </defs>\n       <use xlink:href=\"#DejaVuSans-2212\"/>\n       <use x=\"83.789062\" xlink:href=\"#DejaVuSans-30\"/>\n       <use x=\"147.412109\" xlink:href=\"#DejaVuSans-2e\"/>\n       <use x=\"179.199219\" xlink:href=\"#DejaVuSans-37\"/>\n       <use x=\"242.822266\" xlink:href=\"#DejaVuSans-35\"/>\n      </g>\n     </g>\n    </g>\n    <g id=\"ytick_3\">\n     <g id=\"line2d_9\">\n      <g>\n       <use style=\"stroke:#000000;stroke-width:0.8;\" x=\"73.040625\" xlink:href=\"#m9b2e19c8fe\" y=\"481.848437\"/>\n      </g>\n     </g>\n     <g id=\"text_10\">\n      <!-- −0.50 -->\n      <g transform=\"translate(35.395313 485.647656)scale(0.1 -0.1)\">\n       <use xlink:href=\"#DejaVuSans-2212\"/>\n       <use x=\"83.789062\" xlink:href=\"#DejaVuSans-30\"/>\n       <use x=\"147.412109\" xlink:href=\"#DejaVuSans-2e\"/>\n       <use x=\"179.199219\" xlink:href=\"#DejaVuSans-35\"/>\n       <use x=\"242.822266\" xlink:href=\"#DejaVuSans-30\"/>\n      </g>\n     </g>\n    </g>\n    <g id=\"ytick_4\">\n     <g id=\"line2d_10\">\n      <g>\n       <use style=\"stroke:#000000;stroke-width:0.8;\" x=\"73.040625\" xlink:href=\"#m9b2e19c8fe\" y=\"409.848437\"/>\n      </g>\n     </g>\n     <g id=\"text_11\">\n      <!-- −0.25 -->\n      <g transform=\"translate(35.395313 413.647656)scale(0.1 -0.1)\">\n       <use xlink:href=\"#DejaVuSans-2212\"/>\n       <use x=\"83.789062\" xlink:href=\"#DejaVuSans-30\"/>\n       <use x=\"147.412109\" xlink:href=\"#DejaVuSans-2e\"/>\n       <use x=\"179.199219\" xlink:href=\"#DejaVuSans-32\"/>\n       <use x=\"242.822266\" xlink:href=\"#DejaVuSans-35\"/>\n      </g>\n     </g>\n    </g>\n    <g id=\"ytick_5\">\n     <g id=\"line2d_11\">\n      <g>\n       <use style=\"stroke:#000000;stroke-width:0.8;\" x=\"73.040625\" xlink:href=\"#m9b2e19c8fe\" y=\"337.848437\"/>\n      </g>\n     </g>\n     <g id=\"text_12\">\n      <!-- 0.00 -->\n      <g transform=\"translate(43.775 341.647656)scale(0.1 -0.1)\">\n       <use xlink:href=\"#DejaVuSans-30\"/>\n       <use x=\"63.623047\" xlink:href=\"#DejaVuSans-2e\"/>\n       <use x=\"95.410156\" xlink:href=\"#DejaVuSans-30\"/>\n       <use x=\"159.033203\" xlink:href=\"#DejaVuSans-30\"/>\n      </g>\n     </g>\n    </g>\n    <g id=\"ytick_6\">\n     <g id=\"line2d_12\">\n      <g>\n       <use style=\"stroke:#000000;stroke-width:0.8;\" x=\"73.040625\" xlink:href=\"#m9b2e19c8fe\" y=\"265.848437\"/>\n      </g>\n     </g>\n     <g id=\"text_13\">\n      <!-- 0.25 -->\n      <g transform=\"translate(43.775 269.647656)scale(0.1 -0.1)\">\n       <use xlink:href=\"#DejaVuSans-30\"/>\n       <use x=\"63.623047\" xlink:href=\"#DejaVuSans-2e\"/>\n       <use x=\"95.410156\" xlink:href=\"#DejaVuSans-32\"/>\n       <use x=\"159.033203\" xlink:href=\"#DejaVuSans-35\"/>\n      </g>\n     </g>\n    </g>\n    <g id=\"ytick_7\">\n     <g id=\"line2d_13\">\n      <g>\n       <use style=\"stroke:#000000;stroke-width:0.8;\" x=\"73.040625\" xlink:href=\"#m9b2e19c8fe\" y=\"193.848437\"/>\n      </g>\n     </g>\n     <g id=\"text_14\">\n      <!-- 0.50 -->\n      <g transform=\"translate(43.775 197.647656)scale(0.1 -0.1)\">\n       <use xlink:href=\"#DejaVuSans-30\"/>\n       <use x=\"63.623047\" xlink:href=\"#DejaVuSans-2e\"/>\n       <use x=\"95.410156\" xlink:href=\"#DejaVuSans-35\"/>\n       <use x=\"159.033203\" xlink:href=\"#DejaVuSans-30\"/>\n      </g>\n     </g>\n    </g>\n    <g id=\"ytick_8\">\n     <g id=\"line2d_14\">\n      <g>\n       <use style=\"stroke:#000000;stroke-width:0.8;\" x=\"73.040625\" xlink:href=\"#m9b2e19c8fe\" y=\"121.848437\"/>\n      </g>\n     </g>\n     <g id=\"text_15\">\n      <!-- 0.75 -->\n      <g transform=\"translate(43.775 125.647656)scale(0.1 -0.1)\">\n       <use xlink:href=\"#DejaVuSans-30\"/>\n       <use x=\"63.623047\" xlink:href=\"#DejaVuSans-2e\"/>\n       <use x=\"95.410156\" xlink:href=\"#DejaVuSans-37\"/>\n       <use x=\"159.033203\" xlink:href=\"#DejaVuSans-35\"/>\n      </g>\n     </g>\n    </g>\n    <g id=\"ytick_9\">\n     <g id=\"line2d_15\">\n      <g>\n       <use style=\"stroke:#000000;stroke-width:0.8;\" x=\"73.040625\" xlink:href=\"#m9b2e19c8fe\" y=\"49.848437\"/>\n      </g>\n     </g>\n     <g id=\"text_16\">\n      <!-- 1.00 -->\n      <g transform=\"translate(43.775 53.647656)scale(0.1 -0.1)\">\n       <use xlink:href=\"#DejaVuSans-31\"/>\n       <use x=\"63.623047\" xlink:href=\"#DejaVuSans-2e\"/>\n       <use x=\"95.410156\" xlink:href=\"#DejaVuSans-30\"/>\n       <use x=\"159.033203\" xlink:href=\"#DejaVuSans-30\"/>\n      </g>\n     </g>\n    </g>\n    <g id=\"text_17\">\n     <!-- kendalltau correlation between different metric pairs -->\n     <g transform=\"translate(26.196094 668.496875)rotate(-90)scale(0.25 -0.25)\">\n      <defs>\n       <path d=\"M 544 1381 \nL 544 3500 \nL 1119 3500 \nL 1119 1403 \nQ 1119 906 1312 657 \nQ 1506 409 1894 409 \nQ 2359 409 2629 706 \nQ 2900 1003 2900 1516 \nL 2900 3500 \nL 3475 3500 \nL 3475 0 \nL 2900 0 \nL 2900 538 \nQ 2691 219 2414 64 \nQ 2138 -91 1772 -91 \nQ 1169 -91 856 284 \nQ 544 659 544 1381 \nz\nM 1991 3584 \nL 1991 3584 \nz\n\" id=\"DejaVuSans-75\" transform=\"scale(0.015625)\"/>\n       <path d=\"M 3116 1747 \nQ 3116 2381 2855 2742 \nQ 2594 3103 2138 3103 \nQ 1681 3103 1420 2742 \nQ 1159 2381 1159 1747 \nQ 1159 1113 1420 752 \nQ 1681 391 2138 391 \nQ 2594 391 2855 752 \nQ 3116 1113 3116 1747 \nz\nM 1159 2969 \nQ 1341 3281 1617 3432 \nQ 1894 3584 2278 3584 \nQ 2916 3584 3314 3078 \nQ 3713 2572 3713 1747 \nQ 3713 922 3314 415 \nQ 2916 -91 2278 -91 \nQ 1894 -91 1617 61 \nQ 1341 213 1159 525 \nL 1159 0 \nL 581 0 \nL 581 4863 \nL 1159 4863 \nL 1159 2969 \nz\n\" id=\"DejaVuSans-62\" transform=\"scale(0.015625)\"/>\n       <path d=\"M 269 3500 \nL 844 3500 \nL 1563 769 \nL 2278 3500 \nL 2956 3500 \nL 3675 769 \nL 4391 3500 \nL 4966 3500 \nL 4050 0 \nL 3372 0 \nL 2619 2869 \nL 1863 0 \nL 1184 0 \nL 269 3500 \nz\n\" id=\"DejaVuSans-77\" transform=\"scale(0.015625)\"/>\n       <path d=\"M 2375 4863 \nL 2375 4384 \nL 1825 4384 \nQ 1516 4384 1395 4259 \nQ 1275 4134 1275 3809 \nL 1275 3500 \nL 2222 3500 \nL 2222 3053 \nL 1275 3053 \nL 1275 0 \nL 697 0 \nL 697 3053 \nL 147 3053 \nL 147 3500 \nL 697 3500 \nL 697 3744 \nQ 697 4328 969 4595 \nQ 1241 4863 1831 4863 \nL 2375 4863 \nz\n\" id=\"DejaVuSans-66\" transform=\"scale(0.015625)\"/>\n      </defs>\n      <use xlink:href=\"#DejaVuSans-6b\"/>\n      <use x=\"54.285156\" xlink:href=\"#DejaVuSans-65\"/>\n      <use x=\"115.808594\" xlink:href=\"#DejaVuSans-6e\"/>\n      <use x=\"179.1875\" xlink:href=\"#DejaVuSans-64\"/>\n      <use x=\"242.664062\" xlink:href=\"#DejaVuSans-61\"/>\n      <use x=\"303.943359\" xlink:href=\"#DejaVuSans-6c\"/>\n      <use x=\"331.726562\" xlink:href=\"#DejaVuSans-6c\"/>\n      <use x=\"359.509766\" xlink:href=\"#DejaVuSans-74\"/>\n      <use x=\"398.71875\" xlink:href=\"#DejaVuSans-61\"/>\n      <use x=\"459.998047\" xlink:href=\"#DejaVuSans-75\"/>\n      <use x=\"523.376953\" xlink:href=\"#DejaVuSans-20\"/>\n      <use x=\"555.164062\" xlink:href=\"#DejaVuSans-63\"/>\n      <use x=\"610.144531\" xlink:href=\"#DejaVuSans-6f\"/>\n      <use x=\"671.326172\" xlink:href=\"#DejaVuSans-72\"/>\n      <use x=\"710.689453\" xlink:href=\"#DejaVuSans-72\"/>\n      <use x=\"749.552734\" xlink:href=\"#DejaVuSans-65\"/>\n      <use x=\"811.076172\" xlink:href=\"#DejaVuSans-6c\"/>\n      <use x=\"838.859375\" xlink:href=\"#DejaVuSans-61\"/>\n      <use x=\"900.138672\" xlink:href=\"#DejaVuSans-74\"/>\n      <use x=\"939.347656\" xlink:href=\"#DejaVuSans-69\"/>\n      <use x=\"967.130859\" xlink:href=\"#DejaVuSans-6f\"/>\n      <use x=\"1028.3125\" xlink:href=\"#DejaVuSans-6e\"/>\n      <use x=\"1091.691406\" xlink:href=\"#DejaVuSans-20\"/>\n      <use x=\"1123.478516\" xlink:href=\"#DejaVuSans-62\"/>\n      <use x=\"1186.955078\" xlink:href=\"#DejaVuSans-65\"/>\n      <use x=\"1248.478516\" xlink:href=\"#DejaVuSans-74\"/>\n      <use x=\"1287.6875\" xlink:href=\"#DejaVuSans-77\"/>\n      <use x=\"1369.474609\" xlink:href=\"#DejaVuSans-65\"/>\n      <use x=\"1430.998047\" xlink:href=\"#DejaVuSans-65\"/>\n      <use x=\"1492.521484\" xlink:href=\"#DejaVuSans-6e\"/>\n      <use x=\"1555.900391\" xlink:href=\"#DejaVuSans-20\"/>\n      <use x=\"1587.6875\" xlink:href=\"#DejaVuSans-64\"/>\n      <use x=\"1651.164062\" xlink:href=\"#DejaVuSans-69\"/>\n      <use x=\"1678.947266\" xlink:href=\"#DejaVuSans-66\"/>\n      <use x=\"1714.152344\" xlink:href=\"#DejaVuSans-66\"/>\n      <use x=\"1749.357422\" xlink:href=\"#DejaVuSans-65\"/>\n      <use x=\"1810.880859\" xlink:href=\"#DejaVuSans-72\"/>\n      <use x=\"1849.744141\" xlink:href=\"#DejaVuSans-65\"/>\n      <use x=\"1911.267578\" xlink:href=\"#DejaVuSans-6e\"/>\n      <use x=\"1974.646484\" xlink:href=\"#DejaVuSans-74\"/>\n      <use x=\"2013.855469\" xlink:href=\"#DejaVuSans-20\"/>\n      <use x=\"2045.642578\" xlink:href=\"#DejaVuSans-6d\"/>\n      <use x=\"2143.054688\" xlink:href=\"#DejaVuSans-65\"/>\n      <use x=\"2204.578125\" xlink:href=\"#DejaVuSans-74\"/>\n      <use x=\"2243.787109\" xlink:href=\"#DejaVuSans-72\"/>\n      <use x=\"2284.900391\" xlink:href=\"#DejaVuSans-69\"/>\n      <use x=\"2312.683594\" xlink:href=\"#DejaVuSans-63\"/>\n      <use x=\"2367.664062\" xlink:href=\"#DejaVuSans-20\"/>\n      <use x=\"2399.451172\" xlink:href=\"#DejaVuSans-70\"/>\n      <use x=\"2462.927734\" xlink:href=\"#DejaVuSans-61\"/>\n      <use x=\"2524.207031\" xlink:href=\"#DejaVuSans-69\"/>\n      <use x=\"2551.990234\" xlink:href=\"#DejaVuSans-72\"/>\n      <use x=\"2593.103516\" xlink:href=\"#DejaVuSans-73\"/>\n     </g>\n    </g>\n   </g>\n   <g id=\"line2d_16\">\n    <path clip-path=\"url(#p7adc17dc2b)\" d=\"M 112.313352 157.452833 \nL 183.718311 157.452833 \nL 326.528228 154.57571 \nL 469.338146 177.848437 \nL 612.148063 173.277009 \nL 754.95798 165.048437 \nL 897.767898 145.848437 \n\" style=\"fill:none;stroke:#1f77b4;stroke-dasharray:6,9.9;stroke-dashoffset:0;stroke-width:6;\"/>\n    <defs>\n     <path d=\"M 0 3 \nC 0.795609 3 1.55874 2.683901 2.12132 2.12132 \nC 2.683901 1.55874 3 0.795609 3 0 \nC 3 -0.795609 2.683901 -1.55874 2.12132 -2.12132 \nC 1.55874 -2.683901 0.795609 -3 0 -3 \nC -0.795609 -3 -1.55874 -2.683901 -2.12132 -2.12132 \nC -2.683901 -1.55874 -3 -0.795609 -3 0 \nC -3 0.795609 -2.683901 1.55874 -2.12132 2.12132 \nC -1.55874 2.683901 -0.795609 3 0 3 \nz\n\" id=\"m2b78ad94c6\" style=\"stroke:#1f77b4;\"/>\n    </defs>\n    <g clip-path=\"url(#p7adc17dc2b)\">\n     <use style=\"fill:#1f77b4;stroke:#1f77b4;\" x=\"112.313352\" xlink:href=\"#m2b78ad94c6\" y=\"157.452833\"/>\n     <use style=\"fill:#1f77b4;stroke:#1f77b4;\" x=\"183.718311\" xlink:href=\"#m2b78ad94c6\" y=\"157.452833\"/>\n     <use style=\"fill:#1f77b4;stroke:#1f77b4;\" x=\"326.528228\" xlink:href=\"#m2b78ad94c6\" y=\"154.57571\"/>\n     <use style=\"fill:#1f77b4;stroke:#1f77b4;\" x=\"469.338146\" xlink:href=\"#m2b78ad94c6\" y=\"177.848437\"/>\n     <use style=\"fill:#1f77b4;stroke:#1f77b4;\" x=\"612.148063\" xlink:href=\"#m2b78ad94c6\" y=\"173.277009\"/>\n     <use style=\"fill:#1f77b4;stroke:#1f77b4;\" x=\"754.95798\" xlink:href=\"#m2b78ad94c6\" y=\"165.048437\"/>\n     <use style=\"fill:#1f77b4;stroke:#1f77b4;\" x=\"897.767898\" xlink:href=\"#m2b78ad94c6\" y=\"145.848437\"/>\n    </g>\n   </g>\n   <g id=\"line2d_17\">\n    <path clip-path=\"url(#p7adc17dc2b)\" d=\"M 112.313352 271.386899 \nL 183.718311 271.386899 \nL 326.528228 311.666619 \nL 469.338146 216.248437 \nL 612.148063 173.277009 \nL 754.95798 126.648437 \nL 897.767898 49.848437 \n\" style=\"fill:none;stroke:#ff7f0e;stroke-dasharray:6,9.9;stroke-dashoffset:0;stroke-width:6;\"/>\n    <defs>\n     <path d=\"M 0 3 \nC 0.795609 3 1.55874 2.683901 2.12132 2.12132 \nC 2.683901 1.55874 3 0.795609 3 0 \nC 3 -0.795609 2.683901 -1.55874 2.12132 -2.12132 \nC 1.55874 -2.683901 0.795609 -3 0 -3 \nC -0.795609 -3 -1.55874 -2.683901 -2.12132 -2.12132 \nC -2.683901 -1.55874 -3 -0.795609 -3 0 \nC -3 0.795609 -2.683901 1.55874 -2.12132 2.12132 \nC -1.55874 2.683901 -0.795609 3 0 3 \nz\n\" id=\"m612b2063dd\" style=\"stroke:#ff7f0e;\"/>\n    </defs>\n    <g clip-path=\"url(#p7adc17dc2b)\">\n     <use style=\"fill:#ff7f0e;stroke:#ff7f0e;\" x=\"112.313352\" xlink:href=\"#m612b2063dd\" y=\"271.386899\"/>\n     <use style=\"fill:#ff7f0e;stroke:#ff7f0e;\" x=\"183.718311\" xlink:href=\"#m612b2063dd\" y=\"271.386899\"/>\n     <use style=\"fill:#ff7f0e;stroke:#ff7f0e;\" x=\"326.528228\" xlink:href=\"#m612b2063dd\" y=\"311.666619\"/>\n     <use style=\"fill:#ff7f0e;stroke:#ff7f0e;\" x=\"469.338146\" xlink:href=\"#m612b2063dd\" y=\"216.248437\"/>\n     <use style=\"fill:#ff7f0e;stroke:#ff7f0e;\" x=\"612.148063\" xlink:href=\"#m612b2063dd\" y=\"173.277009\"/>\n     <use style=\"fill:#ff7f0e;stroke:#ff7f0e;\" x=\"754.95798\" xlink:href=\"#m612b2063dd\" y=\"126.648437\"/>\n     <use style=\"fill:#ff7f0e;stroke:#ff7f0e;\" x=\"897.767898\" xlink:href=\"#m612b2063dd\" y=\"49.848437\"/>\n    </g>\n   </g>\n   <g id=\"patch_3\">\n    <path d=\"M 73.040625 625.848437 \nL 73.040625 49.848437 \n\" style=\"fill:none;stroke:#000000;stroke-linecap:square;stroke-linejoin:miter;stroke-width:0.8;\"/>\n   </g>\n   <g id=\"patch_4\">\n    <path d=\"M 937.040625 625.848437 \nL 937.040625 49.848437 \n\" style=\"fill:none;stroke:#000000;stroke-linecap:square;stroke-linejoin:miter;stroke-width:0.8;\"/>\n   </g>\n   <g id=\"patch_5\">\n    <path d=\"M 73.040625 625.848437 \nL 937.040625 625.848437 \n\" style=\"fill:none;stroke:#000000;stroke-linecap:square;stroke-linejoin:miter;stroke-width:0.8;\"/>\n   </g>\n   <g id=\"patch_6\">\n    <path d=\"M 73.040625 49.848437 \nL 937.040625 49.848437 \n\" style=\"fill:none;stroke:#000000;stroke-linecap:square;stroke-linejoin:miter;stroke-width:0.8;\"/>\n   </g>\n   <g id=\"legend_1\">\n    <g id=\"patch_7\">\n     <path d=\"M 83.540625 106.717187 \nL 469.183594 106.717187 \nQ 472.183594 106.717187 472.183594 103.717187 \nL 472.183594 60.348437 \nQ 472.183594 57.348437 469.183594 57.348437 \nL 83.540625 57.348437 \nQ 80.540625 57.348437 80.540625 60.348437 \nL 80.540625 103.717187 \nQ 80.540625 106.717187 83.540625 106.717187 \nz\n\" style=\"fill:#ffffff;opacity:0.8;stroke:#cccccc;stroke-linejoin:miter;\"/>\n    </g>\n    <g id=\"line2d_18\">\n     <path d=\"M 86.540625 69.496094 \nL 116.540625 69.496094 \n\" style=\"fill:none;stroke:#1f77b4;stroke-dasharray:6,9.9;stroke-dashoffset:0;stroke-width:6;\"/>\n    </g>\n    <g id=\"line2d_19\">\n     <g>\n      <use style=\"fill:#1f77b4;stroke:#1f77b4;\" x=\"101.540625\" xlink:href=\"#m2b78ad94c6\" y=\"69.496094\"/>\n     </g>\n    </g>\n    <g id=\"text_18\">\n     <!-- litepyramid_recall_bert_recall_score -->\n     <g transform=\"translate(128.540625 74.746094)scale(0.15 -0.15)\">\n      <use xlink:href=\"#DejaVuSans-6c\"/>\n      <use x=\"27.783203\" xlink:href=\"#DejaVuSans-69\"/>\n      <use x=\"55.566406\" xlink:href=\"#DejaVuSans-74\"/>\n      <use x=\"94.775391\" xlink:href=\"#DejaVuSans-65\"/>\n      <use x=\"156.298828\" xlink:href=\"#DejaVuSans-70\"/>\n      <use x=\"219.775391\" xlink:href=\"#DejaVuSans-79\"/>\n      <use x=\"278.955078\" xlink:href=\"#DejaVuSans-72\"/>\n      <use x=\"320.068359\" xlink:href=\"#DejaVuSans-61\"/>\n      <use x=\"381.347656\" xlink:href=\"#DejaVuSans-6d\"/>\n      <use x=\"478.759766\" xlink:href=\"#DejaVuSans-69\"/>\n      <use x=\"506.542969\" xlink:href=\"#DejaVuSans-64\"/>\n      <use x=\"570.019531\" xlink:href=\"#DejaVuSans-5f\"/>\n      <use x=\"620.019531\" xlink:href=\"#DejaVuSans-72\"/>\n      <use x=\"658.882812\" xlink:href=\"#DejaVuSans-65\"/>\n      <use x=\"720.40625\" xlink:href=\"#DejaVuSans-63\"/>\n      <use x=\"775.386719\" xlink:href=\"#DejaVuSans-61\"/>\n      <use x=\"836.666016\" xlink:href=\"#DejaVuSans-6c\"/>\n      <use x=\"864.449219\" xlink:href=\"#DejaVuSans-6c\"/>\n      <use x=\"892.232422\" xlink:href=\"#DejaVuSans-5f\"/>\n      <use x=\"942.232422\" xlink:href=\"#DejaVuSans-62\"/>\n      <use x=\"1005.708984\" xlink:href=\"#DejaVuSans-65\"/>\n      <use x=\"1067.232422\" xlink:href=\"#DejaVuSans-72\"/>\n      <use x=\"1108.345703\" xlink:href=\"#DejaVuSans-74\"/>\n      <use x=\"1147.554688\" xlink:href=\"#DejaVuSans-5f\"/>\n      <use x=\"1197.554688\" xlink:href=\"#DejaVuSans-72\"/>\n      <use x=\"1236.417969\" xlink:href=\"#DejaVuSans-65\"/>\n      <use x=\"1297.941406\" xlink:href=\"#DejaVuSans-63\"/>\n      <use x=\"1352.921875\" xlink:href=\"#DejaVuSans-61\"/>\n      <use x=\"1414.201172\" xlink:href=\"#DejaVuSans-6c\"/>\n      <use x=\"1441.984375\" xlink:href=\"#DejaVuSans-6c\"/>\n      <use x=\"1469.767578\" xlink:href=\"#DejaVuSans-5f\"/>\n      <use x=\"1519.767578\" xlink:href=\"#DejaVuSans-73\"/>\n      <use x=\"1571.867188\" xlink:href=\"#DejaVuSans-63\"/>\n      <use x=\"1626.847656\" xlink:href=\"#DejaVuSans-6f\"/>\n      <use x=\"1688.029297\" xlink:href=\"#DejaVuSans-72\"/>\n      <use x=\"1726.892578\" xlink:href=\"#DejaVuSans-65\"/>\n     </g>\n    </g>\n    <g id=\"line2d_20\">\n     <path d=\"M 86.540625 91.930469 \nL 116.540625 91.930469 \n\" style=\"fill:none;stroke:#ff7f0e;stroke-dasharray:6,9.9;stroke-dashoffset:0;stroke-width:6;\"/>\n    </g>\n    <g id=\"line2d_21\">\n     <g>\n      <use style=\"fill:#ff7f0e;stroke:#ff7f0e;\" x=\"101.540625\" xlink:href=\"#m612b2063dd\" y=\"91.930469\"/>\n     </g>\n    </g>\n    <g id=\"text_19\">\n     <!-- litepyramid_recall_ours_bert_scientific_paper -->\n     <g transform=\"translate(128.540625 97.180469)scale(0.15 -0.15)\">\n      <use xlink:href=\"#DejaVuSans-6c\"/>\n      <use x=\"27.783203\" xlink:href=\"#DejaVuSans-69\"/>\n      <use x=\"55.566406\" xlink:href=\"#DejaVuSans-74\"/>\n      <use x=\"94.775391\" xlink:href=\"#DejaVuSans-65\"/>\n      <use x=\"156.298828\" xlink:href=\"#DejaVuSans-70\"/>\n      <use x=\"219.775391\" xlink:href=\"#DejaVuSans-79\"/>\n      <use x=\"278.955078\" xlink:href=\"#DejaVuSans-72\"/>\n      <use x=\"320.068359\" xlink:href=\"#DejaVuSans-61\"/>\n      <use x=\"381.347656\" xlink:href=\"#DejaVuSans-6d\"/>\n      <use x=\"478.759766\" xlink:href=\"#DejaVuSans-69\"/>\n      <use x=\"506.542969\" xlink:href=\"#DejaVuSans-64\"/>\n      <use x=\"570.019531\" xlink:href=\"#DejaVuSans-5f\"/>\n      <use x=\"620.019531\" xlink:href=\"#DejaVuSans-72\"/>\n      <use x=\"658.882812\" xlink:href=\"#DejaVuSans-65\"/>\n      <use x=\"720.40625\" xlink:href=\"#DejaVuSans-63\"/>\n      <use x=\"775.386719\" xlink:href=\"#DejaVuSans-61\"/>\n      <use x=\"836.666016\" xlink:href=\"#DejaVuSans-6c\"/>\n      <use x=\"864.449219\" xlink:href=\"#DejaVuSans-6c\"/>\n      <use x=\"892.232422\" xlink:href=\"#DejaVuSans-5f\"/>\n      <use x=\"942.232422\" xlink:href=\"#DejaVuSans-6f\"/>\n      <use x=\"1003.414062\" xlink:href=\"#DejaVuSans-75\"/>\n      <use x=\"1066.792969\" xlink:href=\"#DejaVuSans-72\"/>\n      <use x=\"1107.90625\" xlink:href=\"#DejaVuSans-73\"/>\n      <use x=\"1160.005859\" xlink:href=\"#DejaVuSans-5f\"/>\n      <use x=\"1210.005859\" xlink:href=\"#DejaVuSans-62\"/>\n      <use x=\"1273.482422\" xlink:href=\"#DejaVuSans-65\"/>\n      <use x=\"1335.005859\" xlink:href=\"#DejaVuSans-72\"/>\n      <use x=\"1376.119141\" xlink:href=\"#DejaVuSans-74\"/>\n      <use x=\"1415.328125\" xlink:href=\"#DejaVuSans-5f\"/>\n      <use x=\"1465.328125\" xlink:href=\"#DejaVuSans-73\"/>\n      <use x=\"1517.427734\" xlink:href=\"#DejaVuSans-63\"/>\n      <use x=\"1572.408203\" xlink:href=\"#DejaVuSans-69\"/>\n      <use x=\"1600.191406\" xlink:href=\"#DejaVuSans-65\"/>\n      <use x=\"1661.714844\" xlink:href=\"#DejaVuSans-6e\"/>\n      <use x=\"1725.09375\" xlink:href=\"#DejaVuSans-74\"/>\n      <use x=\"1764.302734\" xlink:href=\"#DejaVuSans-69\"/>\n      <use x=\"1792.085938\" xlink:href=\"#DejaVuSans-66\"/>\n      <use x=\"1827.291016\" xlink:href=\"#DejaVuSans-69\"/>\n      <use x=\"1855.074219\" xlink:href=\"#DejaVuSans-63\"/>\n      <use x=\"1910.054688\" xlink:href=\"#DejaVuSans-5f\"/>\n      <use x=\"1960.054688\" xlink:href=\"#DejaVuSans-70\"/>\n      <use x=\"2023.53125\" xlink:href=\"#DejaVuSans-61\"/>\n      <use x=\"2084.810547\" xlink:href=\"#DejaVuSans-70\"/>\n      <use x=\"2148.287109\" xlink:href=\"#DejaVuSans-65\"/>\n      <use x=\"2209.810547\" xlink:href=\"#DejaVuSans-72\"/>\n     </g>\n    </g>\n   </g>\n  </g>\n </g>\n <defs>\n  <clipPath id=\"p7adc17dc2b\">\n   <rect height=\"576\" width=\"864\" x=\"73.040625\" y=\"49.848437\"/>\n  </clipPath>\n </defs>\n</svg>\n",
      "image/png": "[encoded data removed]"
     },
     "metadata": {
      "needs_background": "light"
     }
    }
   ],
   "metadata": {
    "scrolled": false
   }
  },
  {
   "cell_type": "markdown",
   "source": [
    "# Bootstrap Resampling - Exp III"
   ],
   "metadata": {}
  },
  {
   "cell_type": "code",
   "execution_count": 21,
   "source": [
    "systems = utils.get_system_level_scores(sd, mlist, agg='none')\n",
    "sys_names = list(systems.keys())\n",
    "all_system_pairs = list(itertools.combinations(sys_names, 2))"
   ],
   "outputs": [],
   "metadata": {}
  },
  {
   "cell_type": "code",
   "execution_count": 24,
   "source": [
    "def get_predictions_br(system_pairs, systems, metric):\n",
    "    preds = {}\n",
    "    for pair in system_pairs:\n",
    "        sys1 = systems[pair[0]][metric]\n",
    "        sys2 = systems[pair[1]][metric]\n",
    "        n = len(sys1)\n",
    "        points = [i for i in range(0, n)]\n",
    "        is_better = 0\n",
    "        N = 1000\n",
    "        for i in range(N):\n",
    "            sample = choices(points, k=n)\n",
    "            sys1_ = [sys1[p] for p in sample]\n",
    "            sys2_ = [sys2[p] for p in sample]\n",
    "            if np.mean(sys1_) > np.mean(sys2_):\n",
    "                is_better += 1\n",
    "                \n",
    "        if is_better/N >= 0.95:\n",
    "            preds[pair] = 0 # pair[0] is better\n",
    "        elif is_better/N <= 0.05:\n",
    "            preds[pair] = 1 # pair[1] is better\n",
    "        else:\n",
    "            preds[pair] = 2 # can't say\n",
    "    return preds"
   ],
   "outputs": [],
   "metadata": {}
  },
  {
   "cell_type": "code",
   "execution_count": 23,
   "source": [
    "human_judgements = get_predictions_br(all_system_pairs, systems, 'litepyramid_recall')"
   ],
   "outputs": [],
   "metadata": {}
  },
  {
   "cell_type": "code",
   "execution_count": 21,
   "source": [
    "y_true = [human_judgements[pair] for pair in all_system_pairs]\n",
    "metrics = mlist\n",
    "for metric in metrics:\n",
    "    metric_predictions = get_predictions_br(all_system_pairs, systems, metric)\n",
    "    \n",
    "    y_pred = [metric_predictions[pair] for pair in all_system_pairs]\n",
    "#     print('confusion metrics ', metric)\n",
    "    print(confusion_matrix(y_true, y_pred))\n",
    "    print(metric, f1_score(y_true, y_pred, average='weighted'))"
   ],
   "outputs": [
    {
     "output_type": "stream",
     "name": "stdout",
     "text": [
      "[[16  2  7]\n",
      " [ 1 39  3]\n",
      " [ 6 15 16]]\n",
      "bert_recall_score 0.6603724318010031\n",
      "[[18  2  5]\n",
      " [ 1 35  7]\n",
      " [10 10 17]]\n",
      "mover_score 0.6587782587782587\n",
      "[[21  0  4]\n",
      " [ 0 33 10]\n",
      " [10  8 19]]\n",
      "rouge_1_recall 0.6916326530612246\n",
      "[[21  0  4]\n",
      " [ 0 36  7]\n",
      " [ 4  4 29]]\n",
      "rouge_2_recall 0.8206793779943522\n",
      "[[21  1  3]\n",
      " [ 0 34  9]\n",
      " [ 9  9 19]]\n",
      "rouge_l_recall 0.6988245245851735\n",
      "[[20  0  5]\n",
      " [ 1 33  9]\n",
      " [ 8  6 23]]\n",
      "js-2 0.7250311868198047\n",
      "[[24  0  1]\n",
      " [ 0 41  2]\n",
      " [ 0  1 36]]\n",
      "litepyramid_recall 0.9621407660808685\n"
     ]
    }
   ],
   "metadata": {}
  },
  {
   "cell_type": "markdown",
   "source": [
    "# Summary level analysis - Exp IV"
   ],
   "metadata": {}
  },
  {
   "cell_type": "code",
   "execution_count": 25,
   "source": [
    "np.set_printoptions(precision=4)"
   ],
   "outputs": [],
   "metadata": {}
  },
  {
   "cell_type": "code",
   "execution_count": 26,
   "source": [
    "metrics = mlist\n",
    "utils.print_ktau_matrix(metrics, percentile=[(0, 100)], sd=sd, cutoff_metric='litepyramid_recall', y_type='ktau')"
   ],
   "outputs": [
    {
     "output_type": "stream",
     "name": "stdout",
     "text": [
      "['bert_recall_score', 'mover_score', 'rouge_1_recall', 'rouge_2_recall', 'rouge_l_recall', 'js-2', 'litepyramid_recall']\n",
      "[[0.     0.5434 0.5811 0.5996 0.58   0.5129 0.4684]]\n",
      "\n",
      "[[0.     0.     0.4774 0.5562 0.4774 0.5888 0.436 ]]\n",
      "\n",
      "[[0.     0.     0.     0.682  0.8626 0.5067 0.4891]]\n",
      "\n",
      "[[0.     0.     0.     0.     0.7006 0.7258 0.486 ]]\n",
      "\n",
      "[[0.     0.     0.     0.     0.     0.5154 0.4871]]\n",
      "\n",
      "[[0.     0.     0.     0.     0.     0.     0.4255]]\n",
      "\n",
      "[[0. 0. 0. 0. 0. 0. 0.]]\n",
      "\n",
      "total 476/2100.0 = 22.666666666666668% values ignored\n"
     ]
    },
    {
     "output_type": "execute_result",
     "data": {
      "text/plain": [
       "[0.46838622087890563,\n",
       " 0.43599197955352864,\n",
       " 0.48913594431561247,\n",
       " 0.4859542610414608,\n",
       " 0.4870908341119741,\n",
       " 0.4254850921291276]"
      ]
     },
     "metadata": {},
     "execution_count": 26
    }
   ],
   "metadata": {}
  },
  {
   "cell_type": "code",
   "execution_count": null,
   "source": [],
   "outputs": [],
   "metadata": {}
  }
 ],
 "metadata": {
  "kernelspec": {
   "name": "python3",
   "display_name": "Python 3.8.10 64-bit"
  },
  "language_info": {
   "name": "python",
   "version": "3.8.10",
   "mimetype": "text/x-python",
   "codemirror_mode": {
    "name": "ipython",
    "version": 3
   },
   "pygments_lexer": "ipython3",
   "nbconvert_exporter": "python",
   "file_extension": ".py"
  },
  "interpreter": {
   "hash": "31f2aee4e71d21fbe5cf8b01ff0e069b9275f58929596ceb00d14d90e3e16cd6"
  }
 },
 "nbformat": 4,
 "nbformat_minor": 4
}